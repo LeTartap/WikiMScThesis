{
 "cells": [
  {
   "metadata": {
    "ExecuteTime": {
     "end_time": "2025-08-30T09:25:34.313344Z",
     "start_time": "2025-08-30T09:25:23.616318Z"
    }
   },
   "cell_type": "code",
   "source": [
    "import requests\n",
    "import pandas as pd\n",
    "import spacy\n",
    "from textstat import textstat\n",
    "import re\n",
    "from transformers import GPT2TokenizerFast, GPT2LMHeadModel\n",
    "import torch\n",
    "import pickle\n",
    "\n"
   ],
   "id": "d7a2462a16d1ef19",
   "outputs": [
    {
     "name": "stderr",
     "output_type": "stream",
     "text": [
      "C:\\Users\\david\\anaconda3\\envs\\wiki\\Lib\\site-packages\\requests\\__init__.py:86: RequestsDependencyWarning: Unable to find acceptable character detection dependency (chardet or charset_normalizer).\n",
      "  warnings.warn(\n"
     ]
    }
   ],
   "execution_count": 16
  },
  {
   "metadata": {
    "ExecuteTime": {
     "end_time": "2025-08-29T16:58:39.350702Z",
     "start_time": "2025-08-29T16:58:36.310734Z"
    }
   },
   "cell_type": "code",
   "source": [
    "print(torch.__version__)\n",
    "print(torch.version.cuda)  # Should not be None\n",
    "print(torch.cuda.is_available())\n",
    "print(torch.cuda.device_count())\n",
    "print(torch.cuda.get_device_name(0))\n",
    "\n",
    "tokenizer = GPT2TokenizerFast.from_pretrained(\"gpt2\")\n",
    "model = GPT2LMHeadModel.from_pretrained(\"gpt2\")\n",
    "model.eval()\n",
    "if torch.cuda.is_available():\n",
    "    print(\"cuda available!\")\n",
    "    model.to(\"cuda\")\n",
    "else:\n",
    "    print('cuda not available!')\n"
   ],
   "id": "592eaf2cc59fc370",
   "outputs": [
    {
     "name": "stdout",
     "output_type": "stream",
     "text": [
      "2.7.1+cu118\n",
      "11.8\n",
      "True\n",
      "1\n",
      "NVIDIA GeForce RTX 2070 with Max-Q Design\n",
      "cuda available!\n"
     ]
    }
   ],
   "execution_count": 11
  },
  {
   "cell_type": "code",
   "id": "initial_id",
   "metadata": {
    "collapsed": true,
    "ExecuteTime": {
     "end_time": "2025-08-29T16:24:16.722583Z",
     "start_time": "2025-08-29T16:24:15.926577Z"
    }
   },
   "source": [
    "# read from kaggle dataset\n",
    "path = \"kaggle_AI_dataset/Training_Essay_Data.csv\"\n",
    "kaggle_df = pd.read_csv(path)"
   ],
   "outputs": [],
   "execution_count": 2
  },
  {
   "metadata": {
    "ExecuteTime": {
     "end_time": "2025-08-29T16:24:18.252680Z",
     "start_time": "2025-08-29T16:24:18.239257Z"
    }
   },
   "cell_type": "code",
   "source": [
    "# size of dataset\n",
    "kaggle_df"
   ],
   "id": "139faa549b08a2e8",
   "outputs": [
    {
     "data": {
      "text/plain": [
       "                                                    text  generated\n",
       "0      Car-free cities have become a subject of incre...          1\n",
       "1      Car Free Cities  Car-free cities, a concept ga...          1\n",
       "2        A Sustainable Urban Future  Car-free cities ...          1\n",
       "3        Pioneering Sustainable Urban Living  In an e...          1\n",
       "4        The Path to Sustainable Urban Living  In an ...          1\n",
       "...                                                  ...        ...\n",
       "29140  There has been a fuss about the Elector Colleg...          0\n",
       "29141  Limiting car usage has many advantages. Such a...          0\n",
       "29142  There's a new trend that has been developing f...          0\n",
       "29143  As we all know cars are a big part of our soci...          0\n",
       "29144  Cars have been around since the 1800's and hav...          0\n",
       "\n",
       "[29145 rows x 2 columns]"
      ],
      "text/html": [
       "<div>\n",
       "<style scoped>\n",
       "    .dataframe tbody tr th:only-of-type {\n",
       "        vertical-align: middle;\n",
       "    }\n",
       "\n",
       "    .dataframe tbody tr th {\n",
       "        vertical-align: top;\n",
       "    }\n",
       "\n",
       "    .dataframe thead th {\n",
       "        text-align: right;\n",
       "    }\n",
       "</style>\n",
       "<table border=\"1\" class=\"dataframe\">\n",
       "  <thead>\n",
       "    <tr style=\"text-align: right;\">\n",
       "      <th></th>\n",
       "      <th>text</th>\n",
       "      <th>generated</th>\n",
       "    </tr>\n",
       "  </thead>\n",
       "  <tbody>\n",
       "    <tr>\n",
       "      <th>0</th>\n",
       "      <td>Car-free cities have become a subject of incre...</td>\n",
       "      <td>1</td>\n",
       "    </tr>\n",
       "    <tr>\n",
       "      <th>1</th>\n",
       "      <td>Car Free Cities  Car-free cities, a concept ga...</td>\n",
       "      <td>1</td>\n",
       "    </tr>\n",
       "    <tr>\n",
       "      <th>2</th>\n",
       "      <td>A Sustainable Urban Future  Car-free cities ...</td>\n",
       "      <td>1</td>\n",
       "    </tr>\n",
       "    <tr>\n",
       "      <th>3</th>\n",
       "      <td>Pioneering Sustainable Urban Living  In an e...</td>\n",
       "      <td>1</td>\n",
       "    </tr>\n",
       "    <tr>\n",
       "      <th>4</th>\n",
       "      <td>The Path to Sustainable Urban Living  In an ...</td>\n",
       "      <td>1</td>\n",
       "    </tr>\n",
       "    <tr>\n",
       "      <th>...</th>\n",
       "      <td>...</td>\n",
       "      <td>...</td>\n",
       "    </tr>\n",
       "    <tr>\n",
       "      <th>29140</th>\n",
       "      <td>There has been a fuss about the Elector Colleg...</td>\n",
       "      <td>0</td>\n",
       "    </tr>\n",
       "    <tr>\n",
       "      <th>29141</th>\n",
       "      <td>Limiting car usage has many advantages. Such a...</td>\n",
       "      <td>0</td>\n",
       "    </tr>\n",
       "    <tr>\n",
       "      <th>29142</th>\n",
       "      <td>There's a new trend that has been developing f...</td>\n",
       "      <td>0</td>\n",
       "    </tr>\n",
       "    <tr>\n",
       "      <th>29143</th>\n",
       "      <td>As we all know cars are a big part of our soci...</td>\n",
       "      <td>0</td>\n",
       "    </tr>\n",
       "    <tr>\n",
       "      <th>29144</th>\n",
       "      <td>Cars have been around since the 1800's and hav...</td>\n",
       "      <td>0</td>\n",
       "    </tr>\n",
       "  </tbody>\n",
       "</table>\n",
       "<p>29145 rows × 2 columns</p>\n",
       "</div>"
      ]
     },
     "execution_count": 3,
     "metadata": {},
     "output_type": "execute_result"
    }
   ],
   "execution_count": 3
  },
  {
   "metadata": {
    "ExecuteTime": {
     "end_time": "2025-08-29T16:55:05.427019Z",
     "start_time": "2025-08-29T16:34:29.669652Z"
    }
   },
   "cell_type": "code",
   "source": [
    "from python_code.revised_pipeline import parallel\n",
    "import revised_pipeline.spaCyParser\n",
    "\n",
    "result_spacy = parallel.process_dataframe_parallel(\n",
    "    kaggle_df,\n",
    "    revised_pipeline.spaCyParser.parse_with_spacy,\n",
    "    column=\"text\",\n",
    "    new_column=\"parsed\",\n",
    "    use_threads=True,\n",
    "    cpu_intensive=False\n",
    "\n",
    ")\n",
    "result_spacy.head()"
   ],
   "id": "f5caa192bf902a35",
   "outputs": [
    {
     "name": "stdout",
     "output_type": "stream",
     "text": [
      "Processing 29145 items with 4 workers\n"
     ]
    },
    {
     "data": {
      "text/plain": [
       "Processing text:   0%|          | 0/29145 [00:00<?, ?it/s]"
      ],
      "application/vnd.jupyter.widget-view+json": {
       "version_major": 2,
       "version_minor": 0,
       "model_id": "f478937a1f8047ed91609c2d65795a46"
      }
     },
     "metadata": {},
     "output_type": "display_data"
    },
    {
     "name": "stderr",
     "output_type": "stream",
     "text": [
      "C:\\Users\\david\\anaconda3\\envs\\wiki\\Lib\\site-packages\\spacy\\util.py:910: UserWarning: [W095] Model 'en_core_web_sm' (3.8.0) was trained with spaCy v3.8.0 and may not be 100% compatible with the current version (3.7.2). If you see errors or degraded performance, download a newer compatible model or retrain your custom model with the current spaCy version. For more details and available updates, run: python -m spacy validate\n",
      "  warnings.warn(warn_msg)\n"
     ]
    },
    {
     "data": {
      "text/plain": [
       "                                                text  generated  \\\n",
       "0  Car-free cities have become a subject of incre...          1   \n",
       "1  Car Free Cities  Car-free cities, a concept ga...          1   \n",
       "2    A Sustainable Urban Future  Car-free cities ...          1   \n",
       "3    Pioneering Sustainable Urban Living  In an e...          1   \n",
       "4    The Path to Sustainable Urban Living  In an ...          1   \n",
       "\n",
       "                                              parsed  \n",
       "0  {'upos_props': {'NOUN': 0.28328611898017, 'PUN...  \n",
       "1  {'upos_props': {'NOUN': 0.29439252336448596, '...  \n",
       "2  {'upos_props': {'SPACE': 0.025039123630672927,...  \n",
       "3  {'upos_props': {'SPACE': 0.02358490566037736, ...  \n",
       "4  {'upos_props': {'SPACE': 0.023734177215189875,...  "
      ],
      "text/html": [
       "<div>\n",
       "<style scoped>\n",
       "    .dataframe tbody tr th:only-of-type {\n",
       "        vertical-align: middle;\n",
       "    }\n",
       "\n",
       "    .dataframe tbody tr th {\n",
       "        vertical-align: top;\n",
       "    }\n",
       "\n",
       "    .dataframe thead th {\n",
       "        text-align: right;\n",
       "    }\n",
       "</style>\n",
       "<table border=\"1\" class=\"dataframe\">\n",
       "  <thead>\n",
       "    <tr style=\"text-align: right;\">\n",
       "      <th></th>\n",
       "      <th>text</th>\n",
       "      <th>generated</th>\n",
       "      <th>parsed</th>\n",
       "    </tr>\n",
       "  </thead>\n",
       "  <tbody>\n",
       "    <tr>\n",
       "      <th>0</th>\n",
       "      <td>Car-free cities have become a subject of incre...</td>\n",
       "      <td>1</td>\n",
       "      <td>{'upos_props': {'NOUN': 0.28328611898017, 'PUN...</td>\n",
       "    </tr>\n",
       "    <tr>\n",
       "      <th>1</th>\n",
       "      <td>Car Free Cities  Car-free cities, a concept ga...</td>\n",
       "      <td>1</td>\n",
       "      <td>{'upos_props': {'NOUN': 0.29439252336448596, '...</td>\n",
       "    </tr>\n",
       "    <tr>\n",
       "      <th>2</th>\n",
       "      <td>A Sustainable Urban Future  Car-free cities ...</td>\n",
       "      <td>1</td>\n",
       "      <td>{'upos_props': {'SPACE': 0.025039123630672927,...</td>\n",
       "    </tr>\n",
       "    <tr>\n",
       "      <th>3</th>\n",
       "      <td>Pioneering Sustainable Urban Living  In an e...</td>\n",
       "      <td>1</td>\n",
       "      <td>{'upos_props': {'SPACE': 0.02358490566037736, ...</td>\n",
       "    </tr>\n",
       "    <tr>\n",
       "      <th>4</th>\n",
       "      <td>The Path to Sustainable Urban Living  In an ...</td>\n",
       "      <td>1</td>\n",
       "      <td>{'upos_props': {'SPACE': 0.023734177215189875,...</td>\n",
       "    </tr>\n",
       "  </tbody>\n",
       "</table>\n",
       "</div>"
      ]
     },
     "execution_count": 6,
     "metadata": {},
     "output_type": "execute_result"
    }
   ],
   "execution_count": 6
  },
  {
   "metadata": {
    "ExecuteTime": {
     "end_time": "2025-08-29T16:55:30.248370Z",
     "start_time": "2025-08-29T16:55:23.897191Z"
    }
   },
   "cell_type": "code",
   "source": "result_spacy.to_csv(\"parsed_KAGGLE_revisions.csv\", index=False)\n",
   "id": "239fbe06d59d2eda",
   "outputs": [],
   "execution_count": 7
  },
  {
   "metadata": {
    "ExecuteTime": {
     "end_time": "2025-08-29T16:59:40.984735Z",
     "start_time": "2025-08-29T16:59:40.588403Z"
    }
   },
   "cell_type": "code",
   "source": [
    "# Extract attributes from parsed dictionaries, put in big DF\n",
    "kaggle_df[\"upos_props\"] = result_spacy[\"parsed\"].apply(lambda x: x.get(\"upos_props\", {}))\n",
    "kaggle_df[\"mean_dep_depth\"] = result_spacy[\"parsed\"].apply(lambda x: x.get(\"mean_dep_depth\", 0))\n",
    "kaggle_df[\"clause_ratio\"] = result_spacy[\"parsed\"].apply(lambda x: x.get(\"clause_ratio\", 0))\n",
    "kaggle_df[\"voice_ratio\"] = result_spacy[\"parsed\"].apply(lambda x: x.get(\"voice_ratio\", 0))\n"
   ],
   "id": "e9095d3a5e77dd65",
   "outputs": [],
   "execution_count": 12
  },
  {
   "metadata": {},
   "cell_type": "markdown",
   "source": "# Delta word frequency\n",
   "id": "88e0a48d5aab6e29"
  },
  {
   "metadata": {
    "ExecuteTime": {
     "end_time": "2025-08-29T16:24:28.473900Z",
     "start_time": "2025-08-29T16:24:20.731775Z"
    }
   },
   "cell_type": "code",
   "outputs": [
    {
     "name": "stdout",
     "output_type": "stream",
     "text": [
      "Baseline q (generated == 0): 0.016594\n"
     ]
    },
    {
     "data": {
      "text/plain": [
       "                                                text  generated       p_t  \\\n",
       "0  Car-free cities have become a subject of incre...          1  0.076923   \n",
       "1  Car Free Cities  Car-free cities, a concept ga...          1  0.067669   \n",
       "2    A Sustainable Urban Future  Car-free cities ...          1  0.080979   \n",
       "3    Pioneering Sustainable Urban Living  In an e...          1  0.078067   \n",
       "4    The Path to Sustainable Urban Living  In an ...          1  0.097928   \n",
       "\n",
       "   lexical_spike_delta  \n",
       "0             0.060329  \n",
       "1             0.051075  \n",
       "2             0.064386  \n",
       "3             0.061473  \n",
       "4             0.081335  "
      ],
      "text/html": [
       "<div>\n",
       "<style scoped>\n",
       "    .dataframe tbody tr th:only-of-type {\n",
       "        vertical-align: middle;\n",
       "    }\n",
       "\n",
       "    .dataframe tbody tr th {\n",
       "        vertical-align: top;\n",
       "    }\n",
       "\n",
       "    .dataframe thead th {\n",
       "        text-align: right;\n",
       "    }\n",
       "</style>\n",
       "<table border=\"1\" class=\"dataframe\">\n",
       "  <thead>\n",
       "    <tr style=\"text-align: right;\">\n",
       "      <th></th>\n",
       "      <th>text</th>\n",
       "      <th>generated</th>\n",
       "      <th>p_t</th>\n",
       "      <th>lexical_spike_delta</th>\n",
       "    </tr>\n",
       "  </thead>\n",
       "  <tbody>\n",
       "    <tr>\n",
       "      <th>0</th>\n",
       "      <td>Car-free cities have become a subject of incre...</td>\n",
       "      <td>1</td>\n",
       "      <td>0.076923</td>\n",
       "      <td>0.060329</td>\n",
       "    </tr>\n",
       "    <tr>\n",
       "      <th>1</th>\n",
       "      <td>Car Free Cities  Car-free cities, a concept ga...</td>\n",
       "      <td>1</td>\n",
       "      <td>0.067669</td>\n",
       "      <td>0.051075</td>\n",
       "    </tr>\n",
       "    <tr>\n",
       "      <th>2</th>\n",
       "      <td>A Sustainable Urban Future  Car-free cities ...</td>\n",
       "      <td>1</td>\n",
       "      <td>0.080979</td>\n",
       "      <td>0.064386</td>\n",
       "    </tr>\n",
       "    <tr>\n",
       "      <th>3</th>\n",
       "      <td>Pioneering Sustainable Urban Living  In an e...</td>\n",
       "      <td>1</td>\n",
       "      <td>0.078067</td>\n",
       "      <td>0.061473</td>\n",
       "    </tr>\n",
       "    <tr>\n",
       "      <th>4</th>\n",
       "      <td>The Path to Sustainable Urban Living  In an ...</td>\n",
       "      <td>1</td>\n",
       "      <td>0.097928</td>\n",
       "      <td>0.081335</td>\n",
       "    </tr>\n",
       "  </tbody>\n",
       "</table>\n",
       "</div>"
      ]
     },
     "execution_count": 4,
     "metadata": {},
     "output_type": "execute_result"
    }
   ],
   "execution_count": 4,
   "source": [
    "from ..revised_pipeline.lexical_spike import load_trigger_set, add_lexical_spike_delta,compute_baseline_q_by_label\n",
    "\n",
    "# 1. Load your data\n",
    "kaggle_df = pd.read_csv(path)\n",
    "\n",
    "# 2. Load trigger words\n",
    "trigger_set = load_trigger_set(\"combined_chatgpt_words.csv\")\n",
    "\n",
    "# 3. Compute baseline q using all rows where generated == 0 over the 'text' column\n",
    "q = compute_baseline_q_by_label(\n",
    "    kaggle_df,\n",
    "    trigger_set=trigger_set,\n",
    "    text_col=\"text\",\n",
    "    label_col=\"generated\",\n",
    "    label_value=0,\n",
    ")\n",
    "print(f\"Baseline q (generated == 0): {q:.6f}\")\n",
    "\n",
    "# 4. Add p_t and delta to the Kaggle DataFrame\n",
    "result_lexical_spike = add_lexical_spike_delta(\n",
    "    kaggle_df,\n",
    "    q=q,\n",
    "    trigger_set=trigger_set,\n",
    "    text_col=\"text\",\n",
    ")\n",
    "\n",
    "# 5. Save or inspect\n",
    "result_lexical_spike.to_csv(\"kaggle_lexical_spikes.csv\", index=False)\n",
    "result_lexical_spike.head()\n",
    "\n"
   ],
   "id": "1e03cc406555df37"
  },
  {
   "metadata": {},
   "cell_type": "markdown",
   "source": "Note: for my wikipedia fetched dataset, the Baseline q was Baseline q: 0.022159",
   "id": "ee4f8c85a484dae6"
  },
  {
   "metadata": {},
   "cell_type": "markdown",
   "source": "## check cuda:",
   "id": "e272f761999e6662"
  },
  {
   "metadata": {},
   "cell_type": "code",
   "outputs": [],
   "execution_count": null,
   "source": [
    "from transformers import GPT2TokenizerFast, GPT2LMHeadModel\n",
    "\n",
    "tokenizer = GPT2TokenizerFast.from_pretrained(\"gpt2\")\n",
    "model = GPT2LMHeadModel.from_pretrained(\"gpt2\")\n",
    "model.eval()\n",
    "if torch.cuda.is_available():\n",
    "    print(\"cuda available!\")\n",
    "    model.to(\"cuda\")\n",
    "else:\n",
    "    print('cuda not available!')\n"
   ],
   "id": "e7e4b18db1556717"
  },
  {
   "metadata": {},
   "cell_type": "markdown",
   "source": "# Perplexity and Burstiness",
   "id": "5574c2f3a8db41f"
  },
  {
   "metadata": {},
   "cell_type": "code",
   "source": [
    "# takes the longest time -- better do it on the server\n",
    "\n",
    "import pandas as pd\n",
    "from revised_pipeline.gpt2_perplexity_burstiness import add_perplexity_and_burstiness_to_df\n",
    "\n",
    "\n",
    "# this will add .perplexity and .burstiness columns in place\n",
    "kaggle_df = add_perplexity_and_burstiness_to_df(\n",
    "    kaggle_df,\n",
    "    text_col=\"text\",\n",
    "    batch_size=8\n",
    ")\n",
    "\n",
    "# inspect\n",
    "kaggle_df.head()\n"
   ],
   "id": "5b2e7ca8e067c44b",
   "outputs": [],
   "execution_count": null
  },
  {
   "metadata": {},
   "cell_type": "markdown",
   "source": "# Readability metrics",
   "id": "39e5a808368ef4b8"
  },
  {
   "metadata": {
    "ExecuteTime": {
     "end_time": "2025-08-29T17:01:52.071347Z",
     "start_time": "2025-08-29T17:01:51.291861Z"
    }
   },
   "cell_type": "code",
   "source": [
    "# needed for readability\n",
    "nlp = spacy.load(\"en_core_web_sm\")\n"
   ],
   "id": "f41ec21f49ea5cea",
   "outputs": [
    {
     "name": "stderr",
     "output_type": "stream",
     "text": [
      "C:\\Users\\david\\anaconda3\\envs\\wiki\\Lib\\site-packages\\spacy\\util.py:910: UserWarning: [W095] Model 'en_core_web_sm' (3.8.0) was trained with spaCy v3.8.0 and may not be 100% compatible with the current version (3.7.2). If you see errors or degraded performance, download a newer compatible model or retrain your custom model with the current spaCy version. For more details and available updates, run: python -m spacy validate\n",
      "  warnings.warn(warn_msg)\n"
     ]
    }
   ],
   "execution_count": 16
  },
  {
   "metadata": {
    "ExecuteTime": {
     "end_time": "2025-08-29T17:01:55.641243Z",
     "start_time": "2025-08-29T17:01:55.635795Z"
    }
   },
   "cell_type": "code",
   "source": [
    "from textstat import textstat\n",
    "\n",
    "\n",
    "def compute_readability(text: str):\n",
    "    \"\"\"Compute readability metrics for text\"\"\"\n",
    "    if not isinstance(text, str) or not text.strip():\n",
    "        return 0.0, 0.0, 0.0, 0.0\n",
    "\n",
    "    try:\n",
    "        fre = textstat.flesch_reading_ease(text)\n",
    "        fog = textstat.gunning_fog(text)\n",
    "\n",
    "        # Characters per sentence\n",
    "        sentences = list(nlp(text).sents)\n",
    "        chars_per_sent = sum(len(sent.text) for sent in sentences) / (len(sentences) or 1)\n",
    "\n",
    "        # Sentences per paragraph (since we have flattened text, treat the entire text as one paragraph)\n",
    "        sents_per_para = len(sentences)  # toy assumption: 1 paragraph = all sentences\n",
    "\n",
    "        return fre, fog, chars_per_sent, sents_per_para\n",
    "    except Exception as e:\n",
    "        print(f\"Error computing readability: {str(e)}\")\n",
    "        return 0.0, 0.0, 0.0, 0.0\n"
   ],
   "id": "6c9e4d5eb727efd7",
   "outputs": [],
   "execution_count": 17
  },
  {
   "metadata": {
    "ExecuteTime": {
     "end_time": "2025-08-29T17:23:28.054411Z",
     "start_time": "2025-08-29T17:01:58.219451Z"
    }
   },
   "cell_type": "code",
   "source": [
    "# Compute readability metrics in parallel\n",
    "kaggle_df = parallel.process_dataframe_parallel(\n",
    "    kaggle_df,\n",
    "    compute_readability,\n",
    "    column=\"text\",\n",
    "    new_column=[\"fre\", \"fog\", \"chars_per_sent\", \"sents_per_para\"],\n",
    "    use_threads=True,  # CPU-intensive\n",
    "    cpu_intensive=True\n",
    ")\n"
   ],
   "id": "a67fa52b32f3e5fb",
   "outputs": [
    {
     "name": "stdout",
     "output_type": "stream",
     "text": [
      "Processing 29145 items with 4 workers\n"
     ]
    },
    {
     "data": {
      "text/plain": [
       "Processing text:   0%|          | 0/29145 [00:00<?, ?it/s]"
      ],
      "application/vnd.jupyter.widget-view+json": {
       "version_major": 2,
       "version_minor": 0,
       "model_id": "0d7e73230c98478689c5e83af5b56bdd"
      }
     },
     "metadata": {},
     "output_type": "display_data"
    }
   ],
   "execution_count": 18
  },
  {
   "metadata": {
    "ExecuteTime": {
     "end_time": "2025-08-29T17:23:55.911972Z",
     "start_time": "2025-08-29T17:23:53.724855Z"
    }
   },
   "cell_type": "code",
   "source": [
    "# backup kaggle_df with readability\n",
    "kaggle_df.to_csv(\"kaggle_readability.csv\", index=False)"
   ],
   "id": "af42e80e419a78de",
   "outputs": [],
   "execution_count": 19
  },
  {
   "metadata": {},
   "cell_type": "markdown",
   "source": "## Vocabulary diversity / nTTR and word-density",
   "id": "fd69fae78132a7c"
  },
  {
   "metadata": {
    "ExecuteTime": {
     "end_time": "2025-08-30T09:05:38.636794Z",
     "start_time": "2025-08-30T09:05:38.629608Z"
    }
   },
   "cell_type": "code",
   "source": [
    "def compute_vocab_diversity(text: str, window_size: int = 100):\n",
    "    \"\"\"Compute vocabulary diversity metrics\"\"\"\n",
    "    if not isinstance(text, str) or not text.strip():\n",
    "        return 0.0, 0.0\n",
    "\n",
    "    tokens = text.split()[:window_size]\n",
    "    unique_count = len(set(tokens))\n",
    "    total_count = len(tokens) or 1\n",
    "\n",
    "    # Normalized TTR = unique / sqrt(2 * total)\n",
    "    nTTR = unique_count / ((2 * total_count) ** 0.5)\n",
    "\n",
    "    # Word-density: lines = count of '\\n' + 1, avg_line_len:\n",
    "    lines = text.count(\"\\n\") + 1\n",
    "    avg_line_len = sum(len(line) for line in text.split(\"\\n\")) / lines\n",
    "    wd = 100 * unique_count / (lines * (avg_line_len or 1))\n",
    "\n",
    "    return nTTR, wd, avg_line_len\n"
   ],
   "id": "f61a4d129aa00cda",
   "outputs": [],
   "execution_count": 2
  },
  {
   "metadata": {
    "ExecuteTime": {
     "end_time": "2025-08-30T09:25:35.391054Z",
     "start_time": "2025-08-30T09:25:34.324350Z"
    }
   },
   "cell_type": "code",
   "source": "kaggle_df= pd.read_csv(\"kaggle_final.csv\")",
   "id": "c140bce4dd8ff464",
   "outputs": [],
   "execution_count": 17
  },
  {
   "metadata": {
    "ExecuteTime": {
     "end_time": "2025-08-30T09:25:45.761080Z",
     "start_time": "2025-08-30T09:25:43.370946Z"
    }
   },
   "cell_type": "code",
   "source": [
    "# import parallels from ../revised_pipeline\n",
    "import parallel_copy\n",
    "# Compute vocabulary diversity in parallel\n",
    "kaggle_df = parallel_copy.process_dataframe_parallel(\n",
    "    kaggle_df,\n",
    "    compute_vocab_diversity,\n",
    "    column=\"text\",\n",
    "    new_column=[\"nTTR\", \"word_density\", \"avg_line_len\"],\n",
    "    use_threads=True  # This is lightweight\n",
    ")\n"
   ],
   "id": "327aa3a6f100dc80",
   "outputs": [
    {
     "name": "stdout",
     "output_type": "stream",
     "text": [
      "Processing 29145 items with 4 workers\n"
     ]
    },
    {
     "data": {
      "text/plain": [
       "Processing text:   0%|          | 0/29145 [00:00<?, ?it/s]"
      ],
      "application/vnd.jupyter.widget-view+json": {
       "version_major": 2,
       "version_minor": 0,
       "model_id": "b4fbaea7fd3d441192f5425922c94894"
      }
     },
     "metadata": {},
     "output_type": "display_data"
    }
   ],
   "execution_count": 18
  },
  {
   "metadata": {
    "ExecuteTime": {
     "end_time": "2025-08-30T09:26:29.802437Z",
     "start_time": "2025-08-30T09:26:28.024396Z"
    }
   },
   "cell_type": "code",
   "source": [
    "# save kaggle_df as kaggle_final.csv\n",
    "kaggle_df.to_csv(\"kaggle_final.csv\", index=False)"
   ],
   "id": "fb28be2445d8c1ff",
   "outputs": [],
   "execution_count": 20
  },
  {
   "metadata": {},
   "cell_type": "markdown",
   "source": "# Citation delta not applicable to kaggle dataset, but here is the code",
   "id": "c8569930d1b541eb"
  },
  {
   "metadata": {},
   "cell_type": "code",
   "source": [
    "def compute_citation_delta(wikitext: str):\n",
    "    \"\"\"Compute citation delta\"\"\"\n",
    "    if not isinstance(wikitext, str) or not wikitext.strip():\n",
    "        return 0.0\n",
    "\n",
    "    # Count <ref> tags in raw wikitext\n",
    "    added = len(re.findall(r\"<ref[^>]*>\", wikitext))\n",
    "    removed = 0  # For prototype, assume no diff stored; set removed = 0\n",
    "    tokens_changed = len(wikitext.split()) or 1\n",
    "    return (added - removed) / tokens_changed\n",
    "\n",
    "\n",
    "# Compute citation delta\n",
    "kaggle_df[\"citation_delta\"] = kaggle_df[\"text\"].apply(compute_citation_delta)"
   ],
   "id": "899ed968dbf87b1a",
   "outputs": [],
   "execution_count": null
  },
  {
   "metadata": {
    "ExecuteTime": {
     "end_time": "2025-08-29T17:25:13.287941Z",
     "start_time": "2025-08-29T17:25:13.260598Z"
    }
   },
   "cell_type": "code",
   "source": "kaggle_df",
   "id": "3d81f9b5f8f9ad8b",
   "outputs": [
    {
     "data": {
      "text/plain": [
       "                                                    text  generated  \\\n",
       "0      Car-free cities have become a subject of incre...          1   \n",
       "1      Car Free Cities  Car-free cities, a concept ga...          1   \n",
       "2        A Sustainable Urban Future  Car-free cities ...          1   \n",
       "3        Pioneering Sustainable Urban Living  In an e...          1   \n",
       "4        The Path to Sustainable Urban Living  In an ...          1   \n",
       "...                                                  ...        ...   \n",
       "29140  There has been a fuss about the Elector Colleg...          0   \n",
       "29141  Limiting car usage has many advantages. Such a...          0   \n",
       "29142  There's a new trend that has been developing f...          0   \n",
       "29143  As we all know cars are a big part of our soci...          0   \n",
       "29144  Cars have been around since the 1800's and hav...          0   \n",
       "\n",
       "                                              upos_props  mean_dep_depth  \\\n",
       "0      {'NOUN': 0.28328611898017, 'PUNCT': 0.12606232...        3.021246   \n",
       "1      {'NOUN': 0.29439252336448596, 'PROPN': 0.02803...        3.127726   \n",
       "2      {'SPACE': 0.025039123630672927, 'DET': 0.05164...        3.164319   \n",
       "3      {'SPACE': 0.02358490566037736, 'VERB': 0.08805...        3.256289   \n",
       "4      {'SPACE': 0.023734177215189875, 'DET': 0.06803...        3.245253   \n",
       "...                                                  ...             ...   \n",
       "29140  {'PRON': 0.09406952965235174, 'AUX': 0.0695296...        2.451943   \n",
       "29141  {'VERB': 0.1773049645390071, 'NOUN': 0.2033096...        3.375887   \n",
       "29142  {'PRON': 0.03747072599531616, 'VERB': 0.120608...        2.738876   \n",
       "29143  {'SCONJ': 0.02702702702702703, 'PRON': 0.09797...        2.570946   \n",
       "29144  {'NOUN': 0.23495145631067962, 'AUX': 0.0815533...        2.763107   \n",
       "\n",
       "       clause_ratio  voice_ratio        fre        fog  chars_per_sent  \\\n",
       "0          0.470588     0.995751  18.115424  19.136025      119.794118   \n",
       "1          0.481481     0.996885  16.453883  19.276323      138.592593   \n",
       "2          0.482759     0.995305  11.943452  19.694560      131.448276   \n",
       "3          0.400000     0.993711  13.916275  20.201424      149.040000   \n",
       "4          0.521739     0.996835  11.410395  21.032592      160.304348   \n",
       "...             ...          ...        ...        ...             ...   \n",
       "29140      0.612903     0.989775  67.575668  10.754990       76.774194   \n",
       "29141      1.647059     1.000000  70.402797  11.658557      121.176471   \n",
       "29142      0.833333     0.990632  55.824170  13.342249      119.638889   \n",
       "29143      0.818182     0.998311  73.354085   9.381548       84.333333   \n",
       "29144      0.730769     0.992233  54.479024  12.343544      102.923077   \n",
       "\n",
       "       sents_per_para      nTTR  word_density  \n",
       "0                  34  5.515433      1.906624  \n",
       "1                  27  5.727565      2.155976  \n",
       "2                  29  4.596194      1.698015  \n",
       "3                  25  5.727565      2.166355  \n",
       "4                  23  5.444722      2.082207  \n",
       "...               ...       ...           ...  \n",
       "29140              31  5.161880      3.044204  \n",
       "29141              17  4.949747      3.386551  \n",
       "29142              36  5.586144      1.823217  \n",
       "29143              33  4.808326      2.426838  \n",
       "29144              26  5.020458      2.640387  \n",
       "\n",
       "[29145 rows x 12 columns]"
      ],
      "text/html": [
       "<div>\n",
       "<style scoped>\n",
       "    .dataframe tbody tr th:only-of-type {\n",
       "        vertical-align: middle;\n",
       "    }\n",
       "\n",
       "    .dataframe tbody tr th {\n",
       "        vertical-align: top;\n",
       "    }\n",
       "\n",
       "    .dataframe thead th {\n",
       "        text-align: right;\n",
       "    }\n",
       "</style>\n",
       "<table border=\"1\" class=\"dataframe\">\n",
       "  <thead>\n",
       "    <tr style=\"text-align: right;\">\n",
       "      <th></th>\n",
       "      <th>text</th>\n",
       "      <th>generated</th>\n",
       "      <th>upos_props</th>\n",
       "      <th>mean_dep_depth</th>\n",
       "      <th>clause_ratio</th>\n",
       "      <th>voice_ratio</th>\n",
       "      <th>fre</th>\n",
       "      <th>fog</th>\n",
       "      <th>chars_per_sent</th>\n",
       "      <th>sents_per_para</th>\n",
       "      <th>nTTR</th>\n",
       "      <th>word_density</th>\n",
       "    </tr>\n",
       "  </thead>\n",
       "  <tbody>\n",
       "    <tr>\n",
       "      <th>0</th>\n",
       "      <td>Car-free cities have become a subject of incre...</td>\n",
       "      <td>1</td>\n",
       "      <td>{'NOUN': 0.28328611898017, 'PUNCT': 0.12606232...</td>\n",
       "      <td>3.021246</td>\n",
       "      <td>0.470588</td>\n",
       "      <td>0.995751</td>\n",
       "      <td>18.115424</td>\n",
       "      <td>19.136025</td>\n",
       "      <td>119.794118</td>\n",
       "      <td>34</td>\n",
       "      <td>5.515433</td>\n",
       "      <td>1.906624</td>\n",
       "    </tr>\n",
       "    <tr>\n",
       "      <th>1</th>\n",
       "      <td>Car Free Cities  Car-free cities, a concept ga...</td>\n",
       "      <td>1</td>\n",
       "      <td>{'NOUN': 0.29439252336448596, 'PROPN': 0.02803...</td>\n",
       "      <td>3.127726</td>\n",
       "      <td>0.481481</td>\n",
       "      <td>0.996885</td>\n",
       "      <td>16.453883</td>\n",
       "      <td>19.276323</td>\n",
       "      <td>138.592593</td>\n",
       "      <td>27</td>\n",
       "      <td>5.727565</td>\n",
       "      <td>2.155976</td>\n",
       "    </tr>\n",
       "    <tr>\n",
       "      <th>2</th>\n",
       "      <td>A Sustainable Urban Future  Car-free cities ...</td>\n",
       "      <td>1</td>\n",
       "      <td>{'SPACE': 0.025039123630672927, 'DET': 0.05164...</td>\n",
       "      <td>3.164319</td>\n",
       "      <td>0.482759</td>\n",
       "      <td>0.995305</td>\n",
       "      <td>11.943452</td>\n",
       "      <td>19.694560</td>\n",
       "      <td>131.448276</td>\n",
       "      <td>29</td>\n",
       "      <td>4.596194</td>\n",
       "      <td>1.698015</td>\n",
       "    </tr>\n",
       "    <tr>\n",
       "      <th>3</th>\n",
       "      <td>Pioneering Sustainable Urban Living  In an e...</td>\n",
       "      <td>1</td>\n",
       "      <td>{'SPACE': 0.02358490566037736, 'VERB': 0.08805...</td>\n",
       "      <td>3.256289</td>\n",
       "      <td>0.400000</td>\n",
       "      <td>0.993711</td>\n",
       "      <td>13.916275</td>\n",
       "      <td>20.201424</td>\n",
       "      <td>149.040000</td>\n",
       "      <td>25</td>\n",
       "      <td>5.727565</td>\n",
       "      <td>2.166355</td>\n",
       "    </tr>\n",
       "    <tr>\n",
       "      <th>4</th>\n",
       "      <td>The Path to Sustainable Urban Living  In an ...</td>\n",
       "      <td>1</td>\n",
       "      <td>{'SPACE': 0.023734177215189875, 'DET': 0.06803...</td>\n",
       "      <td>3.245253</td>\n",
       "      <td>0.521739</td>\n",
       "      <td>0.996835</td>\n",
       "      <td>11.410395</td>\n",
       "      <td>21.032592</td>\n",
       "      <td>160.304348</td>\n",
       "      <td>23</td>\n",
       "      <td>5.444722</td>\n",
       "      <td>2.082207</td>\n",
       "    </tr>\n",
       "    <tr>\n",
       "      <th>...</th>\n",
       "      <td>...</td>\n",
       "      <td>...</td>\n",
       "      <td>...</td>\n",
       "      <td>...</td>\n",
       "      <td>...</td>\n",
       "      <td>...</td>\n",
       "      <td>...</td>\n",
       "      <td>...</td>\n",
       "      <td>...</td>\n",
       "      <td>...</td>\n",
       "      <td>...</td>\n",
       "      <td>...</td>\n",
       "    </tr>\n",
       "    <tr>\n",
       "      <th>29140</th>\n",
       "      <td>There has been a fuss about the Elector Colleg...</td>\n",
       "      <td>0</td>\n",
       "      <td>{'PRON': 0.09406952965235174, 'AUX': 0.0695296...</td>\n",
       "      <td>2.451943</td>\n",
       "      <td>0.612903</td>\n",
       "      <td>0.989775</td>\n",
       "      <td>67.575668</td>\n",
       "      <td>10.754990</td>\n",
       "      <td>76.774194</td>\n",
       "      <td>31</td>\n",
       "      <td>5.161880</td>\n",
       "      <td>3.044204</td>\n",
       "    </tr>\n",
       "    <tr>\n",
       "      <th>29141</th>\n",
       "      <td>Limiting car usage has many advantages. Such a...</td>\n",
       "      <td>0</td>\n",
       "      <td>{'VERB': 0.1773049645390071, 'NOUN': 0.2033096...</td>\n",
       "      <td>3.375887</td>\n",
       "      <td>1.647059</td>\n",
       "      <td>1.000000</td>\n",
       "      <td>70.402797</td>\n",
       "      <td>11.658557</td>\n",
       "      <td>121.176471</td>\n",
       "      <td>17</td>\n",
       "      <td>4.949747</td>\n",
       "      <td>3.386551</td>\n",
       "    </tr>\n",
       "    <tr>\n",
       "      <th>29142</th>\n",
       "      <td>There's a new trend that has been developing f...</td>\n",
       "      <td>0</td>\n",
       "      <td>{'PRON': 0.03747072599531616, 'VERB': 0.120608...</td>\n",
       "      <td>2.738876</td>\n",
       "      <td>0.833333</td>\n",
       "      <td>0.990632</td>\n",
       "      <td>55.824170</td>\n",
       "      <td>13.342249</td>\n",
       "      <td>119.638889</td>\n",
       "      <td>36</td>\n",
       "      <td>5.586144</td>\n",
       "      <td>1.823217</td>\n",
       "    </tr>\n",
       "    <tr>\n",
       "      <th>29143</th>\n",
       "      <td>As we all know cars are a big part of our soci...</td>\n",
       "      <td>0</td>\n",
       "      <td>{'SCONJ': 0.02702702702702703, 'PRON': 0.09797...</td>\n",
       "      <td>2.570946</td>\n",
       "      <td>0.818182</td>\n",
       "      <td>0.998311</td>\n",
       "      <td>73.354085</td>\n",
       "      <td>9.381548</td>\n",
       "      <td>84.333333</td>\n",
       "      <td>33</td>\n",
       "      <td>4.808326</td>\n",
       "      <td>2.426838</td>\n",
       "    </tr>\n",
       "    <tr>\n",
       "      <th>29144</th>\n",
       "      <td>Cars have been around since the 1800's and hav...</td>\n",
       "      <td>0</td>\n",
       "      <td>{'NOUN': 0.23495145631067962, 'AUX': 0.0815533...</td>\n",
       "      <td>2.763107</td>\n",
       "      <td>0.730769</td>\n",
       "      <td>0.992233</td>\n",
       "      <td>54.479024</td>\n",
       "      <td>12.343544</td>\n",
       "      <td>102.923077</td>\n",
       "      <td>26</td>\n",
       "      <td>5.020458</td>\n",
       "      <td>2.640387</td>\n",
       "    </tr>\n",
       "  </tbody>\n",
       "</table>\n",
       "<p>29145 rows × 12 columns</p>\n",
       "</div>"
      ]
     },
     "execution_count": 24,
     "metadata": {},
     "output_type": "execute_result"
    }
   ],
   "execution_count": 24
  }
 ],
 "metadata": {
  "kernelspec": {
   "display_name": "Python 3",
   "language": "python",
   "name": "python3"
  },
  "language_info": {
   "codemirror_mode": {
    "name": "ipython",
    "version": 2
   },
   "file_extension": ".py",
   "mimetype": "text/x-python",
   "name": "python",
   "nbconvert_exporter": "python",
   "pygments_lexer": "ipython2",
   "version": "2.7.6"
  }
 },
 "nbformat": 4,
 "nbformat_minor": 5
}
