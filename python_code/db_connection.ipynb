{
 "cells": [
  {
   "metadata": {
    "ExecuteTime": {
     "end_time": "2025-06-24T12:48:46.143164Z",
     "start_time": "2025-06-24T12:48:44.844664Z"
    }
   },
   "cell_type": "code",
   "source": [
    "from sqlalchemy import create_engine\n",
    "from dotenv import load_dotenv\n",
    "import os\n",
    "\n",
    "import pandas as pd\n",
    "\n",
    "load_dotenv()  # loads from .env by default\n",
    "\n",
    "DB_HOST = os.getenv(\"DB_HOST\")\n",
    "DB_PORT = os.getenv(\"DB_PORT\")\n",
    "DB_USER = os.getenv(\"DB_USER\")\n",
    "DB_PASSWORD = os.getenv(\"DB_PASSWORD\")\n",
    "DB_NAME = os.getenv(\"DB_NAME\")\n",
    "\n",
    "connection_string = f\"postgresql://{DB_USER}:{DB_PASSWORD}@{DB_HOST}:{DB_PORT}/{DB_NAME}\"\n",
    "engine = create_engine(connection_string)\n",
    "\n",
    "\n"
   ],
   "id": "f91364ea82d1053d",
   "outputs": [],
   "execution_count": 1
  },
  {
   "metadata": {
    "ExecuteTime": {
     "end_time": "2025-06-23T16:36:39.675845Z",
     "start_time": "2025-06-23T16:36:30.390219Z"
    }
   },
   "cell_type": "code",
   "source": [
    "# read the data from the CSV file 100per categoriy\n",
    "import pandas as pd\n",
    "\n",
    "df = pd.read_csv(\"100percategoryjun23.csv\")\n"
   ],
   "id": "cd276647b80bf277",
   "outputs": [],
   "execution_count": 3
  },
  {
   "metadata": {
    "ExecuteTime": {
     "end_time": "2025-06-23T16:38:20.548812Z",
     "start_time": "2025-06-23T16:36:46.535052Z"
    }
   },
   "cell_type": "code",
   "source": [
    "# from sqlalchemy import create_engine\n",
    "# import pandas as pd\n",
    "#\n",
    "# # Create engine with only client-side encoding\n",
    "# engine = create_engine(connection_string)\n",
    "#\n",
    "# # Clean function that ensures LATIN1 compatibility\n",
    "# def clean_for_latin1(df):\n",
    "#     df_clean = df.copy()\n",
    "#     for col in df_clean.select_dtypes(include=['object']).columns:\n",
    "#         df_clean[col] = df_clean[col].astype(str).apply(\n",
    "#             lambda x: x.encode('latin1', errors='replace').decode('latin1')\n",
    "#         )\n",
    "#     return df_clean\n",
    "#\n",
    "# # Clean and export the data\n",
    "# df_clean = clean_for_latin1(df)\n",
    "# df_clean.to_sql(\"multiplecategories\", engine, index=False, if_exists=\"replace\")"
   ],
   "id": "7a4d4b02c38ff621",
   "outputs": [
    {
     "data": {
      "text/plain": [
       "549"
      ]
     },
     "execution_count": 4,
     "metadata": {},
     "output_type": "execute_result"
    }
   ],
   "execution_count": 4
  },
  {
   "metadata": {
    "ExecuteTime": {
     "end_time": "2025-06-23T16:45:06.622851Z",
     "start_time": "2025-06-23T16:45:05.036985Z"
    }
   },
   "cell_type": "code",
   "source": [
    "# # from csv\n",
    "# all_articles_by_category = pd.read_csv(\"all_articles_by_category.csv\")\n",
    "#\n",
    "# all_articles_cleaned = clean_for_latin1(all_articles_by_category)\n",
    "# all_articles_cleaned.to_sql(\"all_articles_by_category\", engine, index=False, if_exists=\"replace\")"
   ],
   "id": "571e68d73517ec7f",
   "outputs": [
    {
     "data": {
      "text/plain": [
       "695"
      ]
     },
     "execution_count": 7,
     "metadata": {},
     "output_type": "execute_result"
    }
   ],
   "execution_count": 7
  },
  {
   "metadata": {},
   "cell_type": "code",
   "outputs": [],
   "execution_count": null,
   "source": "",
   "id": "c85398b7ac53ce89"
  },
  {
   "metadata": {
    "ExecuteTime": {
     "end_time": "2025-06-23T20:38:48.731179Z",
     "start_time": "2025-06-23T20:38:38.144839Z"
    }
   },
   "cell_type": "code",
   "source": [
    "import pandas as pd\n",
    "\n",
    "# Read both tables from the database\n",
    "full_query = \"\"\"SELECT m.*, a.title, c.root, c.stratum\n",
    "                FROM multiplecategories m\n",
    "                         LEFT JOIN all_articles_by_category c ON m.article_id = c.article_id\n",
    "                         LEFT JOIN articles a ON m.article_id = a.article_id;\"\"\"\n",
    "\n",
    "# execute the query and load the data into a DataFrame\n",
    "\n",
    "merged = pd.read_sql(full_query, engine)\n",
    "\n",
    "\n"
   ],
   "id": "42dc4d62d9f3ec8e",
   "outputs": [],
   "execution_count": 18
  },
  {
   "metadata": {
    "ExecuteTime": {
     "end_time": "2025-06-23T20:38:57.041387Z",
     "start_time": "2025-06-23T20:38:57.024674Z"
    }
   },
   "cell_type": "code",
   "source": "merged.head()",
   "id": "969dd7ec6d4f1e77",
   "outputs": [
    {
     "data": {
      "text/plain": [
       "                 snapshot_ts      rev_id                  timestamp  \\\n",
       "0  2023-06-30 00:00:00+00:00  1160763005  2023-06-18 16:30:41+00:00   \n",
       "1  2023-07-31 00:00:00+00:00  1166013433  2023-07-18 21:17:52+00:00   \n",
       "2  2023-08-31 00:00:00+00:00  1171485250  2023-08-21 11:13:21+00:00   \n",
       "3  2023-09-30 00:00:00+00:00  1177319025  2023-09-27 04:45:15+00:00   \n",
       "4  2023-10-31 00:00:00+00:00  1181899435  2023-10-25 22:06:39+00:00   \n",
       "\n",
       "                                    user  is_bot  \\\n",
       "0  2601:483:C301:7360:BC05:287F:176:F15F   False   \n",
       "1                             TompaDompa   False   \n",
       "2                           79.41.96.200   False   \n",
       "3                         187.254.98.237   False   \n",
       "4                              Idulatria   False   \n",
       "\n",
       "                                             content  article_id  \\\n",
       "0  {{Use dmy dates|date=July 2021}}\\n{{Short desc...       20951   \n",
       "1  {{Use dmy dates|date=July 2021}}\\n{{Short desc...       20951   \n",
       "2  {{Use dmy dates|date=July 2021}}\\n{{Short desc...       20951   \n",
       "3  {{Use dmy dates|date=July 2021}}\\n{{Short desc...       20951   \n",
       "4  {{Use dmy dates|date=July 2021}}\\n{{Short desc...       20951   \n",
       "\n",
       "             title     root  stratum  \n",
       "0  List of empires  History  History  \n",
       "1  List of empires  History  History  \n",
       "2  List of empires  History  History  \n",
       "3  List of empires  History  History  \n",
       "4  List of empires  History  History  "
      ],
      "text/html": [
       "<div>\n",
       "<style scoped>\n",
       "    .dataframe tbody tr th:only-of-type {\n",
       "        vertical-align: middle;\n",
       "    }\n",
       "\n",
       "    .dataframe tbody tr th {\n",
       "        vertical-align: top;\n",
       "    }\n",
       "\n",
       "    .dataframe thead th {\n",
       "        text-align: right;\n",
       "    }\n",
       "</style>\n",
       "<table border=\"1\" class=\"dataframe\">\n",
       "  <thead>\n",
       "    <tr style=\"text-align: right;\">\n",
       "      <th></th>\n",
       "      <th>snapshot_ts</th>\n",
       "      <th>rev_id</th>\n",
       "      <th>timestamp</th>\n",
       "      <th>user</th>\n",
       "      <th>is_bot</th>\n",
       "      <th>content</th>\n",
       "      <th>article_id</th>\n",
       "      <th>title</th>\n",
       "      <th>root</th>\n",
       "      <th>stratum</th>\n",
       "    </tr>\n",
       "  </thead>\n",
       "  <tbody>\n",
       "    <tr>\n",
       "      <th>0</th>\n",
       "      <td>2023-06-30 00:00:00+00:00</td>\n",
       "      <td>1160763005</td>\n",
       "      <td>2023-06-18 16:30:41+00:00</td>\n",
       "      <td>2601:483:C301:7360:BC05:287F:176:F15F</td>\n",
       "      <td>False</td>\n",
       "      <td>{{Use dmy dates|date=July 2021}}\\n{{Short desc...</td>\n",
       "      <td>20951</td>\n",
       "      <td>List of empires</td>\n",
       "      <td>History</td>\n",
       "      <td>History</td>\n",
       "    </tr>\n",
       "    <tr>\n",
       "      <th>1</th>\n",
       "      <td>2023-07-31 00:00:00+00:00</td>\n",
       "      <td>1166013433</td>\n",
       "      <td>2023-07-18 21:17:52+00:00</td>\n",
       "      <td>TompaDompa</td>\n",
       "      <td>False</td>\n",
       "      <td>{{Use dmy dates|date=July 2021}}\\n{{Short desc...</td>\n",
       "      <td>20951</td>\n",
       "      <td>List of empires</td>\n",
       "      <td>History</td>\n",
       "      <td>History</td>\n",
       "    </tr>\n",
       "    <tr>\n",
       "      <th>2</th>\n",
       "      <td>2023-08-31 00:00:00+00:00</td>\n",
       "      <td>1171485250</td>\n",
       "      <td>2023-08-21 11:13:21+00:00</td>\n",
       "      <td>79.41.96.200</td>\n",
       "      <td>False</td>\n",
       "      <td>{{Use dmy dates|date=July 2021}}\\n{{Short desc...</td>\n",
       "      <td>20951</td>\n",
       "      <td>List of empires</td>\n",
       "      <td>History</td>\n",
       "      <td>History</td>\n",
       "    </tr>\n",
       "    <tr>\n",
       "      <th>3</th>\n",
       "      <td>2023-09-30 00:00:00+00:00</td>\n",
       "      <td>1177319025</td>\n",
       "      <td>2023-09-27 04:45:15+00:00</td>\n",
       "      <td>187.254.98.237</td>\n",
       "      <td>False</td>\n",
       "      <td>{{Use dmy dates|date=July 2021}}\\n{{Short desc...</td>\n",
       "      <td>20951</td>\n",
       "      <td>List of empires</td>\n",
       "      <td>History</td>\n",
       "      <td>History</td>\n",
       "    </tr>\n",
       "    <tr>\n",
       "      <th>4</th>\n",
       "      <td>2023-10-31 00:00:00+00:00</td>\n",
       "      <td>1181899435</td>\n",
       "      <td>2023-10-25 22:06:39+00:00</td>\n",
       "      <td>Idulatria</td>\n",
       "      <td>False</td>\n",
       "      <td>{{Use dmy dates|date=July 2021}}\\n{{Short desc...</td>\n",
       "      <td>20951</td>\n",
       "      <td>List of empires</td>\n",
       "      <td>History</td>\n",
       "      <td>History</td>\n",
       "    </tr>\n",
       "  </tbody>\n",
       "</table>\n",
       "</div>"
      ]
     },
     "execution_count": 19,
     "metadata": {},
     "output_type": "execute_result"
    }
   ],
   "execution_count": 19
  },
  {
   "metadata": {
    "ExecuteTime": {
     "end_time": "2025-06-23T20:45:17.075507Z",
     "start_time": "2025-06-23T20:45:03.889496Z"
    }
   },
   "cell_type": "code",
   "source": [
    "# write merged data to a new CSV file\n",
    "merged.to_csv(\"100percategoryjun23_with_categories.csv\", index=False)"
   ],
   "id": "45c9861ae0b25ba3",
   "outputs": [],
   "execution_count": 20
  },
  {
   "metadata": {},
   "cell_type": "code",
   "outputs": [],
   "execution_count": null,
   "source": "",
   "id": "cdce8cd7178994b3"
  },
  {
   "metadata": {},
   "cell_type": "markdown",
   "source": "# Add baseline and delta columns\n",
   "id": "43674187c084633f"
  },
  {
   "metadata": {
    "ExecuteTime": {
     "end_time": "2025-06-24T12:49:30.538656Z",
     "start_time": "2025-06-24T12:49:18.818140Z"
    }
   },
   "cell_type": "code",
   "source": [
    "# read the merged data from the CSV file\n",
    "after_delta = pd.read_csv(\"after_spacy_parsed100percat_with_categories_june23_with_delta.csv\")"
   ],
   "id": "d64c271ddd6c5a66",
   "outputs": [],
   "execution_count": 2
  },
  {
   "metadata": {
    "ExecuteTime": {
     "end_time": "2025-06-24T12:50:08.766257Z",
     "start_time": "2025-06-24T12:50:08.759604Z"
    }
   },
   "cell_type": "code",
   "source": "update_df = after_delta[[\"rev_id\", \"p_t\", \"lexical_spike_delta\"]].copy()\n",
   "id": "ba44b29fbfc61af0",
   "outputs": [],
   "execution_count": 3
  },
  {
   "metadata": {
    "ExecuteTime": {
     "end_time": "2025-06-24T12:51:02.390407Z",
     "start_time": "2025-06-24T12:51:01.294847Z"
    }
   },
   "cell_type": "code",
   "source": "update_df.to_sql(\"temp_revision_updates\", engine, index=False, if_exists=\"replace\")",
   "id": "33674394433fe2f5",
   "outputs": [
    {
     "data": {
      "text/plain": [
       "832"
      ]
     },
     "execution_count": 5,
     "metadata": {},
     "output_type": "execute_result"
    }
   ],
   "execution_count": 5
  },
  {
   "metadata": {
    "ExecuteTime": {
     "end_time": "2025-06-24T12:52:18.207906Z",
     "start_time": "2025-06-24T12:52:18.085627Z"
    }
   },
   "cell_type": "code",
   "source": [
    "from sqlalchemy import text\n",
    "\n",
    "with engine.begin() as conn:\n",
    "    conn.execute(text(\"\"\"\n",
    "        UPDATE multiplecategories AS m\n",
    "        SET\n",
    "            p_t = t.p_t,\n",
    "            lexical_spike_delta = t.lexical_spike_delta\n",
    "        FROM temp_revision_updates AS t\n",
    "        WHERE m.rev_id = t.rev_id;\n",
    "    \"\"\"))\n"
   ],
   "id": "39fb9b0d08b755de",
   "outputs": [],
   "execution_count": 7
  }
 ],
 "metadata": {
  "kernelspec": {
   "display_name": "Python 3",
   "language": "python",
   "name": "python3"
  },
  "language_info": {
   "codemirror_mode": {
    "name": "ipython",
    "version": 2
   },
   "file_extension": ".py",
   "mimetype": "text/x-python",
   "name": "python",
   "nbconvert_exporter": "python",
   "pygments_lexer": "ipython2",
   "version": "2.7.6"
  }
 },
 "nbformat": 4,
 "nbformat_minor": 5
}
