{
 "cells": [
  {
   "cell_type": "code",
   "id": "initial_id",
   "metadata": {
    "collapsed": true,
    "ExecuteTime": {
     "end_time": "2025-06-04T14:09:16.598093Z",
     "start_time": "2025-06-04T14:08:53.626929Z"
    }
   },
   "source": [
    "import requests\n",
    "import pandas as pd\n",
    "import spacy\n",
    "from textstat import textstat\n",
    "import re\n",
    "from transformers import GPT2TokenizerFast, GPT2LMHeadModel\n",
    "import torch\n"
   ],
   "outputs": [
    {
     "name": "stderr",
     "output_type": "stream",
     "text": [
      "C:\\Users\\david\\anaconda3\\envs\\wiki\\Lib\\site-packages\\requests\\__init__.py:86: RequestsDependencyWarning: Unable to find acceptable character detection dependency (chardet or charset_normalizer).\n",
      "  warnings.warn(\n"
     ]
    }
   ],
   "execution_count": 2
  },
  {
   "metadata": {
    "ExecuteTime": {
     "end_time": "2025-06-04T14:09:17.411533Z",
     "start_time": "2025-06-04T14:09:16.600361Z"
    }
   },
   "cell_type": "code",
   "source": "nlp = spacy.load(\"en_core_web_sm\")\n",
   "id": "e01bf52a1ccbeac0",
   "outputs": [],
   "execution_count": 3
  },
  {
   "metadata": {
    "ExecuteTime": {
     "end_time": "2025-06-04T14:09:17.436842Z",
     "start_time": "2025-06-04T14:09:17.413059Z"
    }
   },
   "cell_type": "code",
   "source": [
    "print(torch.__version__)\n",
    "print(torch.version.cuda)  # Should not be None\n",
    "print(torch.cuda.is_available())\n",
    "print(torch.cuda.device_count())\n",
    "print(torch.cuda.get_device_name(0))"
   ],
   "id": "3bc396490d5d98c6",
   "outputs": [
    {
     "name": "stdout",
     "output_type": "stream",
     "text": [
      "2.7.1+cu118\n",
      "11.8\n",
      "True\n",
      "1\n",
      "NVIDIA GeForce RTX 2070 with Max-Q Design\n"
     ]
    }
   ],
   "execution_count": 4
  },
  {
   "metadata": {
    "ExecuteTime": {
     "end_time": "2025-06-04T14:09:19.876635Z",
     "start_time": "2025-06-04T14:09:17.439852Z"
    }
   },
   "cell_type": "code",
   "source": [
    "tokenizer = GPT2TokenizerFast.from_pretrained(\"gpt2\")\n",
    "model = GPT2LMHeadModel.from_pretrained(\"gpt2\")\n",
    "model.eval()\n",
    "if torch.cuda.is_available():\n",
    "    print(\"cuda available!\")\n",
    "    model.to(\"cuda\")\n",
    "else:\n",
    "    print('cuda not available!')\n"
   ],
   "id": "fb6063862c7976f1",
   "outputs": [
    {
     "name": "stdout",
     "output_type": "stream",
     "text": [
      "cuda available!\n"
     ]
    }
   ],
   "execution_count": 5
  },
  {
   "metadata": {
    "ExecuteTime": {
     "end_time": "2025-06-04T14:09:19.883623Z",
     "start_time": "2025-06-04T14:09:19.878640Z"
    }
   },
   "cell_type": "code",
   "source": [
    "sample_pages = [\n",
    "    \"Python (programming language)\",\n",
    "    \"Machine learning\",\n",
    "    \"Artificial intelligence\"\n",
    "]\n"
   ],
   "id": "bf3d9b0fcefb87c5",
   "outputs": [],
   "execution_count": 6
  },
  {
   "metadata": {
    "ExecuteTime": {
     "end_time": "2025-06-04T14:09:19.895296Z",
     "start_time": "2025-06-04T14:09:19.886129Z"
    }
   },
   "cell_type": "code",
   "source": [
    "START_TIMESTAMP = \"2023-01-01T00:00:00Z\"\n",
    "END_TIMESTAMP   = \"2023-03-31T23:59:59Z\"\n"
   ],
   "id": "d535b62f9ab8dff0",
   "outputs": [],
   "execution_count": 7
  },
  {
   "metadata": {
    "ExecuteTime": {
     "end_time": "2025-06-04T14:09:19.915617Z",
     "start_time": "2025-06-04T14:09:19.897301Z"
    }
   },
   "cell_type": "code",
   "source": [
    "columns = [\n",
    "    \"page_title\", \"rev_id\", \"timestamp\", \"user\", \"is_bot\", \"content\"\n",
    "]\n",
    "tiny_revs = pd.DataFrame(columns=columns)\n"
   ],
   "id": "aeab2ce1ec3a0f01",
   "outputs": [],
   "execution_count": 8
  },
  {
   "metadata": {
    "ExecuteTime": {
     "end_time": "2025-06-04T14:09:19.923202Z",
     "start_time": "2025-06-04T14:09:19.917624Z"
    }
   },
   "cell_type": "code",
   "source": [
    "def is_bot_username(username: str) -> bool:\n",
    "    return username.lower().endswith(\"bot\")\n"
   ],
   "id": "3c053dcf615ffcfe",
   "outputs": [],
   "execution_count": 9
  },
  {
   "metadata": {
    "ExecuteTime": {
     "end_time": "2025-06-04T14:09:19.938873Z",
     "start_time": "2025-06-04T14:09:19.926211Z"
    }
   },
   "cell_type": "code",
   "source": [
    "def fetch_revisions_for_page(title, start_ts, end_ts):\n",
    "    \"\"\"\n",
    "    Calls the MediaWiki `action=query&prop=revisions` endpoint to\n",
    "    fetch all revisions for one page between start_ts and end_ts.\n",
    "    Returns a list of dicts with keys: rev_id, timestamp, user, content.\n",
    "    \"\"\"\n",
    "    S = requests.Session()\n",
    "    URL = \"https://en.wikipedia.org/w/api.php\"\n",
    "    revisions = []\n",
    "    params = {\n",
    "        \"action\": \"query\",\n",
    "        \"format\": \"json\",\n",
    "        \"prop\": \"revisions\",\n",
    "        \"rvprop\": \"ids|timestamp|user|comment|content\",\n",
    "        \"rvstart\": end_ts,\n",
    "        \"rvend\": start_ts,\n",
    "        \"rvlimit\": \"max\",\n",
    "        \"titles\": title,\n",
    "        \"redirects\": 1,\n",
    "        \"rvslots\": \"main\",\n",
    "    }\n",
    "    while True:\n",
    "        response = S.get(URL, params=params).json()\n",
    "        pages = response[\"query\"][\"pages\"]\n",
    "        page_id = next(iter(pages))\n",
    "        if \"revisions\" not in pages[page_id]:\n",
    "            break\n",
    "        for rev in pages[page_id][\"revisions\"]:\n",
    "            content = rev.get(\"slots\", {}).get(\"main\", {}).get(\"*\", \"\")\n",
    "            revisions.append({\n",
    "                \"rev_id\": rev[\"revid\"],\n",
    "                \"timestamp\": rev[\"timestamp\"],\n",
    "                \"user\": rev[\"user\"],\n",
    "                \"is_bot\": is_bot_username(rev[\"user\"]),\n",
    "                \"content\": content\n",
    "            })\n",
    "        if \"continue\" in response:\n",
    "            params.update(response[\"continue\"])\n",
    "        else:\n",
    "            break\n",
    "    return revisions\n"
   ],
   "id": "dba3ac3f6ae7ff08",
   "outputs": [],
   "execution_count": 10
  },
  {
   "metadata": {
    "ExecuteTime": {
     "end_time": "2025-06-04T14:11:11.236236Z",
     "start_time": "2025-06-04T14:11:02.423347Z"
    }
   },
   "cell_type": "code",
   "source": [
    "\n",
    "rows = []\n",
    "for pg in sample_pages:\n",
    "    revs = fetch_revisions_for_page(pg, START_TIMESTAMP, END_TIMESTAMP)\n",
    "    for r in revs:\n",
    "        rows.append({\n",
    "            \"page_title\": pg,\n",
    "            \"rev_id\": r[\"rev_id\"],\n",
    "            \"timestamp\": r[\"timestamp\"],\n",
    "            \"user\": r[\"user\"],\n",
    "            \"is_bot\": r[\"is_bot\"],\n",
    "            \"content\": r[\"content\"]\n",
    "        })\n",
    "\n",
    "tiny_revs = pd.DataFrame(rows)\n"
   ],
   "id": "925854417862aba0",
   "outputs": [],
   "execution_count": 12
  },
  {
   "metadata": {
    "ExecuteTime": {
     "end_time": "2025-06-04T14:11:37.274933Z",
     "start_time": "2025-06-04T14:11:37.245602Z"
    }
   },
   "cell_type": "code",
   "source": [
    "tiny_revs.head()\n",
    "# tiny_revs.shape\n"
   ],
   "id": "68cc9f6875022b0f",
   "outputs": [
    {
     "data": {
      "text/plain": [
       "                      page_title      rev_id             timestamp  \\\n",
       "0  Python (programming language)  1145862507  2023-03-21T11:50:34Z   \n",
       "1  Python (programming language)  1144434497  2023-03-13T19:11:54Z   \n",
       "2  Python (programming language)  1144432784  2023-03-13T19:00:30Z   \n",
       "3  Python (programming language)  1140647220  2023-02-21T02:12:18Z   \n",
       "4  Python (programming language)  1138397948  2023-02-09T13:16:31Z   \n",
       "\n",
       "                 user  is_bot  \\\n",
       "0           Comp.arch   False   \n",
       "1         Thumperward   False   \n",
       "2         Thumperward   False   \n",
       "3           Tdmurlock   False   \n",
       "4  AirshipJungleman29   False   \n",
       "\n",
       "                                             content  \n",
       "0  {{Lead too short|date=March 2023}}\\n{{pp|small...  \n",
       "1  {{Lead too short|date=March 2023}}\\n{{pp|small...  \n",
       "2  {{pp|small=yes}}\\n{{Short description|General-...  \n",
       "3  {{pp|small=yes}}\\n{{Short description|General-...  \n",
       "4  {{pp|small=yes}}\\n{{Short description|General-...  "
      ],
      "text/html": [
       "<div>\n",
       "<style scoped>\n",
       "    .dataframe tbody tr th:only-of-type {\n",
       "        vertical-align: middle;\n",
       "    }\n",
       "\n",
       "    .dataframe tbody tr th {\n",
       "        vertical-align: top;\n",
       "    }\n",
       "\n",
       "    .dataframe thead th {\n",
       "        text-align: right;\n",
       "    }\n",
       "</style>\n",
       "<table border=\"1\" class=\"dataframe\">\n",
       "  <thead>\n",
       "    <tr style=\"text-align: right;\">\n",
       "      <th></th>\n",
       "      <th>page_title</th>\n",
       "      <th>rev_id</th>\n",
       "      <th>timestamp</th>\n",
       "      <th>user</th>\n",
       "      <th>is_bot</th>\n",
       "      <th>content</th>\n",
       "    </tr>\n",
       "  </thead>\n",
       "  <tbody>\n",
       "    <tr>\n",
       "      <th>0</th>\n",
       "      <td>Python (programming language)</td>\n",
       "      <td>1145862507</td>\n",
       "      <td>2023-03-21T11:50:34Z</td>\n",
       "      <td>Comp.arch</td>\n",
       "      <td>False</td>\n",
       "      <td>{{Lead too short|date=March 2023}}\\n{{pp|small...</td>\n",
       "    </tr>\n",
       "    <tr>\n",
       "      <th>1</th>\n",
       "      <td>Python (programming language)</td>\n",
       "      <td>1144434497</td>\n",
       "      <td>2023-03-13T19:11:54Z</td>\n",
       "      <td>Thumperward</td>\n",
       "      <td>False</td>\n",
       "      <td>{{Lead too short|date=March 2023}}\\n{{pp|small...</td>\n",
       "    </tr>\n",
       "    <tr>\n",
       "      <th>2</th>\n",
       "      <td>Python (programming language)</td>\n",
       "      <td>1144432784</td>\n",
       "      <td>2023-03-13T19:00:30Z</td>\n",
       "      <td>Thumperward</td>\n",
       "      <td>False</td>\n",
       "      <td>{{pp|small=yes}}\\n{{Short description|General-...</td>\n",
       "    </tr>\n",
       "    <tr>\n",
       "      <th>3</th>\n",
       "      <td>Python (programming language)</td>\n",
       "      <td>1140647220</td>\n",
       "      <td>2023-02-21T02:12:18Z</td>\n",
       "      <td>Tdmurlock</td>\n",
       "      <td>False</td>\n",
       "      <td>{{pp|small=yes}}\\n{{Short description|General-...</td>\n",
       "    </tr>\n",
       "    <tr>\n",
       "      <th>4</th>\n",
       "      <td>Python (programming language)</td>\n",
       "      <td>1138397948</td>\n",
       "      <td>2023-02-09T13:16:31Z</td>\n",
       "      <td>AirshipJungleman29</td>\n",
       "      <td>False</td>\n",
       "      <td>{{pp|small=yes}}\\n{{Short description|General-...</td>\n",
       "    </tr>\n",
       "  </tbody>\n",
       "</table>\n",
       "</div>"
      ]
     },
     "execution_count": 15,
     "metadata": {},
     "output_type": "execute_result"
    }
   ],
   "execution_count": 15
  },
  {
   "metadata": {
    "ExecuteTime": {
     "end_time": "2025-06-04T14:11:19.008624Z",
     "start_time": "2025-06-04T14:11:18.883826Z"
    }
   },
   "cell_type": "code",
   "source": "tiny_revs.to_pickle(\"tiny_revisions.pkl\")\n",
   "id": "e862abf3369595ec",
   "outputs": [],
   "execution_count": 14
  }
 ],
 "metadata": {
  "kernelspec": {
   "display_name": "Python 3",
   "language": "python",
   "name": "python3"
  },
  "language_info": {
   "codemirror_mode": {
    "name": "ipython",
    "version": 2
   },
   "file_extension": ".py",
   "mimetype": "text/x-python",
   "name": "python",
   "nbconvert_exporter": "python",
   "pygments_lexer": "ipython2",
   "version": "2.7.6"
  }
 },
 "nbformat": 4,
 "nbformat_minor": 5
}
