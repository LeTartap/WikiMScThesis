{
 "cells": [
  {
   "metadata": {
    "ExecuteTime": {
     "end_time": "2025-06-26T10:58:50.283808Z",
     "start_time": "2025-06-26T10:58:46.913094Z"
    }
   },
   "cell_type": "code",
   "source": [
    "import pandas as pd\n",
    "import numpy as np\n",
    "import re\n",
    "from sklearn.decomposition import PCA\n",
    "from sklearn.manifold import TSNE\n",
    "from sklearn.preprocessing import StandardScaler\n",
    "import matplotlib.pyplot as plt\n",
    "import ace_tools as tools"
   ],
   "id": "2b17d439c276f915",
   "outputs": [
    {
     "ename": "ModuleNotFoundError",
     "evalue": "No module named 'ace_tools'",
     "output_type": "error",
     "traceback": [
      "\u001B[31m---------------------------------------------------------------------------\u001B[39m",
      "\u001B[31mModuleNotFoundError\u001B[39m                       Traceback (most recent call last)",
      "\u001B[36mCell\u001B[39m\u001B[36m \u001B[39m\u001B[32mIn[1]\u001B[39m\u001B[32m, line 8\u001B[39m\n\u001B[32m      6\u001B[39m \u001B[38;5;28;01mfrom\u001B[39;00m\u001B[38;5;250m \u001B[39m\u001B[34;01msklearn\u001B[39;00m\u001B[34;01m.\u001B[39;00m\u001B[34;01mpreprocessing\u001B[39;00m\u001B[38;5;250m \u001B[39m\u001B[38;5;28;01mimport\u001B[39;00m StandardScaler\n\u001B[32m      7\u001B[39m \u001B[38;5;28;01mimport\u001B[39;00m\u001B[38;5;250m \u001B[39m\u001B[34;01mmatplotlib\u001B[39;00m\u001B[34;01m.\u001B[39;00m\u001B[34;01mpyplot\u001B[39;00m\u001B[38;5;250m \u001B[39m\u001B[38;5;28;01mas\u001B[39;00m\u001B[38;5;250m \u001B[39m\u001B[34;01mplt\u001B[39;00m\n\u001B[32m----> \u001B[39m\u001B[32m8\u001B[39m \u001B[38;5;28;01mimport\u001B[39;00m\u001B[38;5;250m \u001B[39m\u001B[34;01mace_tools\u001B[39;00m\u001B[38;5;250m \u001B[39m\u001B[38;5;28;01mas\u001B[39;00m\u001B[38;5;250m \u001B[39m\u001B[34;01mtools\u001B[39;00m\n",
      "\u001B[31mModuleNotFoundError\u001B[39m: No module named 'ace_tools'"
     ]
    }
   ],
   "execution_count": 1
  },
  {
   "cell_type": "code",
   "execution_count": null,
   "id": "initial_id",
   "metadata": {
    "collapsed": true
   },
   "outputs": [],
   "source": [
    "\n",
    "\n",
    "# # 1. Parse info_about_data.txt for category average revisions\n",
    "# with open('/mnt/data/info_about_data.txt', 'r') as f:\n",
    "#     lines = f.read().splitlines()\n",
    "#\n",
    "# cat_lines = [ln for ln in lines if re.match(r'^\\d+\\s+.+\\s+\\d+\\.\\d+$', ln)]\n",
    "# cats = []\n",
    "# for ln in cat_lines:\n",
    "#     parts = ln.split()\n",
    "#     avg = float(parts[-1])\n",
    "#     name = ' '.join(parts[1:-1])\n",
    "#     cats.append({'category': name, 'avg_revisions_per_article': avg})\n",
    "# df_cats = pd.DataFrame(cats)\n",
    "# tools.display_dataframe_to_user('Category average revisions', df_cats)\n",
    "\n",
    "# 2. Load the revision-level DataFrame (update path as needed)\n",
    "df = pd.read_parquet('/python_code/everything100percat.csv')\n",
    "\n",
    "# 3. Identify numeric feature columns (excluding metadata/int identifiers)\n",
    "meta_cols = ['Unnamed: 0', 'snapshot_ts', 'rev_id', 'timestamp', 'user',\n",
    "             'is_bot', 'content', 'article_id', 'title', 'root', 'stratum', 'plain_text']\n",
    "feature_cols = [c for c in df.columns if df[c].dtype in [np.float64, np.int64] and c not in meta_cols]\n",
    "\n",
    "# 4. Descriptive statistics for all features\n",
    "desc_stats = df[feature_cols].describe().T\n",
    "tools.display_dataframe_to_user('Feature descriptive statistics', desc_stats)\n",
    "\n",
    "# 5. Correlation heatmap of features\n",
    "corr = df[feature_cols].corr()\n",
    "plt.figure(figsize=(12, 10))\n",
    "plt.imshow(corr, cmap='coolwarm', aspect='auto')\n",
    "plt.colorbar(label='Correlation')\n",
    "plt.xticks(range(len(feature_cols)), feature_cols, rotation=90)\n",
    "plt.yticks(range(len(feature_cols)), feature_cols)\n",
    "plt.title('Feature Correlation Matrix')\n",
    "plt.tight_layout()\n",
    "plt.show()\n",
    "\n",
    "# 6. PCA for dimensionality reduction\n",
    "scaler = StandardScaler()\n",
    "X_scaled = scaler.fit_transform(df[feature_cols])\n",
    "pca = PCA(n_components=5, random_state=42)\n",
    "X_pca = pca.fit_transform(X_scaled)\n",
    "loadings = pd.DataFrame(pca.components_.T,\n",
    "                        index=feature_cols,\n",
    "                        columns=[f'PC{i+1}' for i in range(5)])\n",
    "explained_var = pd.Series(pca.explained_variance_ratio_,\n",
    "                          index=[f'PC{i+1}' for i in range(5)])\n",
    "\n",
    "tools.display_dataframe_to_user('PCA Loadings', loadings)\n",
    "tools.display_dataframe_to_user('PCA Explained Variance Ratio', explained_var)\n",
    "\n",
    "# 7. t-SNE embedding for 2D visualization\n",
    "tsne = TSNE(n_components=2, random_state=42)\n",
    "X_tsne = tsne.fit_transform(X_scaled)\n",
    "df_tsne = pd.DataFrame(X_tsne, columns=['TSNE1', 'TSNE2'])\n",
    "tools.display_dataframe_to_user('t-SNE Embedding (first 1000 points)', df_tsne.head(1000))\n",
    "\n",
    "plt.figure(figsize=(8,6))\n",
    "plt.scatter(df_tsne['TSNE1'], df_tsne['TSNE2'], s=5, alpha=0.6)\n",
    "plt.title('t-SNE 2D Embedding of Revisions')\n",
    "plt.xlabel('TSNE1')\n",
    "plt.ylabel('TSNE2')\n",
    "plt.tight_layout()\n",
    "plt.show()\n"
   ]
  }
 ],
 "metadata": {
  "kernelspec": {
   "display_name": "Python 3",
   "language": "python",
   "name": "python3"
  },
  "language_info": {
   "codemirror_mode": {
    "name": "ipython",
    "version": 2
   },
   "file_extension": ".py",
   "mimetype": "text/x-python",
   "name": "python",
   "nbconvert_exporter": "python",
   "pygments_lexer": "ipython2",
   "version": "2.7.6"
  }
 },
 "nbformat": 4,
 "nbformat_minor": 5
}
