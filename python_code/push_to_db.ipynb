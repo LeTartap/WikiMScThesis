{
 "cells": [
  {
   "metadata": {
    "ExecuteTime": {
     "end_time": "2025-06-21T13:46:54.009413Z",
     "start_time": "2025-06-21T13:46:53.206518Z"
    }
   },
   "cell_type": "code",
   "source": [
    "from sqlalchemy import create_engine\n",
    "import pandas as pd\n",
    "\n",
    "# Create engine with only client-side encoding\n",
    "engine = create_engine(\n",
    "    \"postgresql://dab_dsgnprj_78:4BBs5Gzy+fcC/nV3@bronto.ewi.utwente.nl:5432/dab_dsgnprj_78\"\n",
    ")\n",
    "\n",
    "# Clean function that ensures LATIN1 compatibility\n",
    "def clean_for_latin1(df):\n",
    "    df_clean = df.copy()\n",
    "    for col in df_clean.select_dtypes(include=['object']).columns:\n",
    "        df_clean[col] = df_clean[col].astype(str).apply(\n",
    "            lambda x: x.encode('latin1', errors='replace').decode('latin1')\n",
    "        )\n",
    "    return df_clean\n",
    "\n",
    "# Clean and export the data\n",
    "df_clean = clean_for_latin1(df)\n",
    "df_clean.to_sql(\"history_politics\", engine, index=False, if_exists=\"replace\")"
   ],
   "id": "7a4d4b02c38ff621",
   "outputs": [
    {
     "data": {
      "text/plain": [
       "829"
      ]
     },
     "execution_count": 7,
     "metadata": {},
     "output_type": "execute_result"
    }
   ],
   "execution_count": 7
  }
 ],
 "metadata": {
  "kernelspec": {
   "display_name": "Python 3",
   "language": "python",
   "name": "python3"
  },
  "language_info": {
   "codemirror_mode": {
    "name": "ipython",
    "version": 2
   },
   "file_extension": ".py",
   "mimetype": "text/x-python",
   "name": "python",
   "nbconvert_exporter": "python",
   "pygments_lexer": "ipython2",
   "version": "2.7.6"
  }
 },
 "nbformat": 4,
 "nbformat_minor": 5
}
