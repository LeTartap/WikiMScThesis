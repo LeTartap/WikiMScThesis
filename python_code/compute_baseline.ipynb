{
 "cells": [
  {
   "metadata": {},
   "cell_type": "code",
   "outputs": [],
   "execution_count": null,
   "source": "",
   "id": "e30f4b4d016eca80"
  },
  {
   "cell_type": "code",
   "id": "initial_id",
   "metadata": {
    "collapsed": true,
    "ExecuteTime": {
     "end_time": "2025-06-23T11:53:43.433045Z",
     "start_time": "2025-06-23T11:53:42.686897Z"
    }
   },
   "source": [
    "# 1. Filter pre-ChatGPT rows (before November 2022)\n",
    "prechatgpt_revs = tiny_revs[tiny_revs[\"timestamp\"] < \"2022-11-01\"]\n",
    "\n",
    "# 2. Count frequency of trigger words per revision\n",
    "def compute_pt(text, trigger_set):\n",
    "    tokens = text.split()\n",
    "    if not tokens:\n",
    "        return 0.0\n",
    "    return sum(1 for t in tokens if t in trigger_set) / len(tokens)\n",
    "\n",
    "prechatgpt_revs[\"p_t\"] = prechatgpt_revs[\"plain_text\"].apply(lambda txt: compute_pt(txt, tiny_trigger))\n",
    "\n",
    "# 3. Compute q (the baseline)\n",
    "q = prechatgpt_revs[\"p_t\"].mean()\n",
    "print(f\"Baseline q (mean trigger frequency pre-ChatGPT): {q:.6f}\")\n"
   ],
   "outputs": [
    {
     "ename": "NameError",
     "evalue": "name 'tiny_revs' is not defined",
     "output_type": "error",
     "traceback": [
      "\u001B[31m---------------------------------------------------------------------------\u001B[39m",
      "\u001B[31mNameError\u001B[39m                                 Traceback (most recent call last)",
      "\u001B[36mCell\u001B[39m\u001B[36m \u001B[39m\u001B[32mIn[1]\u001B[39m\u001B[32m, line 2\u001B[39m\n\u001B[32m      1\u001B[39m \u001B[38;5;66;03m# 1. Filter pre-ChatGPT rows (before November 2022)\u001B[39;00m\n\u001B[32m----> \u001B[39m\u001B[32m2\u001B[39m prechatgpt_revs = tiny_revs[tiny_revs[\u001B[33m\"\u001B[39m\u001B[33mtimestamp\u001B[39m\u001B[33m\"\u001B[39m] < \u001B[33m\"\u001B[39m\u001B[33m2022-11-01\u001B[39m\u001B[33m\"\u001B[39m]\n\u001B[32m      4\u001B[39m \u001B[38;5;66;03m# 2. Count frequency of trigger words per revision\u001B[39;00m\n\u001B[32m      5\u001B[39m \u001B[38;5;28;01mdef\u001B[39;00m\u001B[38;5;250m \u001B[39m\u001B[34mcompute_pt\u001B[39m(text, trigger_set):\n",
      "\u001B[31mNameError\u001B[39m: name 'tiny_revs' is not defined"
     ]
    }
   ],
   "execution_count": 1
  },
  {
   "metadata": {},
   "cell_type": "code",
   "outputs": [],
   "execution_count": null,
   "source": "",
   "id": "41aeb180d480b400"
  }
 ],
 "metadata": {
  "kernelspec": {
   "display_name": "Python 3",
   "language": "python",
   "name": "python3"
  },
  "language_info": {
   "codemirror_mode": {
    "name": "ipython",
    "version": 2
   },
   "file_extension": ".py",
   "mimetype": "text/x-python",
   "name": "python",
   "nbconvert_exporter": "python",
   "pygments_lexer": "ipython2",
   "version": "2.7.6"
  }
 },
 "nbformat": 4,
 "nbformat_minor": 5
}
