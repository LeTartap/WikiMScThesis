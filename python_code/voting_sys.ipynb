{
 "cells": [
  {
   "cell_type": "code",
   "id": "initial_id",
   "metadata": {
    "collapsed": true,
    "ExecuteTime": {
     "end_time": "2025-07-07T12:15:41.336354Z",
     "start_time": "2025-07-07T12:15:27.820484Z"
    }
   },
   "source": [
    "import pandas as pd\n",
    "\n",
    "full_data = pd.read_csv(\"everything100percat.csv\")"
   ],
   "outputs": [],
   "execution_count": 1
  },
  {
   "metadata": {
    "ExecuteTime": {
     "end_time": "2025-06-27T15:15:41.611600Z",
     "start_time": "2025-06-27T15:15:41.121351Z"
    }
   },
   "cell_type": "code",
   "outputs": [
    {
     "name": "stdout",
     "output_type": "stream",
     "text": [
      "Thresholds per feature: {'lexical_spike_delta': {'threshold': np.float64(0.03160831639765665), 'direction': 'greater'}, 'perplexity': {'threshold': np.float64(219.4595947265625), 'direction': 'less'}, 'citation_delta': {'threshold': np.float64(0.0006215535705276602), 'direction': 'less'}, 'burstiness': {'threshold': np.float64(0.0584613878072789), 'direction': 'less'}, 'nTTR': {'threshold': np.float64(5.700198591836499), 'direction': 'less'}}\n",
      "AI‐flagged revisions: 654\n"
     ]
    }
   ],
   "execution_count": 2,
   "source": [
    "\n",
    "def calibrate_thresholds(\n",
    "    df: pd.DataFrame,\n",
    "    baseline_mask: pd.Series,\n",
    "    features_params: dict\n",
    ") -> dict:\n",
    "    \"\"\"\n",
    "    Compute trigger thresholds for each feature based on a baseline window.\n",
    "\n",
    "    Args:\n",
    "      df             : full DataFrame with features\n",
    "      baseline_mask  : boolean Series marking baseline rows (e.g., pre‑ChatGPT)\n",
    "      features_params: dict mapping feature names to:\n",
    "                       {\n",
    "                         \"direction\": \"greater\" or \"less\",\n",
    "                         \"percentile\": e.g. 95 (for greater) or 5 (for less)\n",
    "                       }\n",
    "    Returns:\n",
    "      thresholds: dict mapping feature to {\"threshold\": float, \"direction\": str}\n",
    "    \"\"\"\n",
    "    baseline_df = df.loc[baseline_mask]\n",
    "    thresholds = {}\n",
    "    for feat, params in features_params.items():\n",
    "        pct = params.get(\"percentile\", 95 if params[\"direction\"]==\"greater\" else 5) / 100\n",
    "        if params[\"direction\"] == \"greater\":\n",
    "            thr = baseline_df[feat].quantile(pct)\n",
    "        else:\n",
    "            thr = baseline_df[feat].quantile(pct)\n",
    "        thresholds[feat] = {\"threshold\": thr, \"direction\": params[\"direction\"]}\n",
    "    return thresholds\n",
    "\n",
    "def rule_based_flag(\n",
    "    row: pd.Series,\n",
    "    thresholds: dict,\n",
    "    min_votes: int\n",
    ") -> bool:\n",
    "    \"\"\"\n",
    "    Apply rule‑based voting for a single revision.\n",
    "\n",
    "    Args:\n",
    "      row        : one DataFrame row of features\n",
    "      thresholds : dict from calibrate_thresholds()\n",
    "      min_votes  : minimum number of triggered rules to label as AI\n",
    "\n",
    "    Returns:\n",
    "      True if AI‑assisted (votes >= min_votes), else False\n",
    "    \"\"\"\n",
    "    votes = 0\n",
    "    for feat, params in thresholds.items():\n",
    "        val = row.get(feat, None)\n",
    "        if val is None or pd.isna(val):\n",
    "            continue\n",
    "        if params[\"direction\"] == \"greater\" and val > params[\"threshold\"]:\n",
    "            votes += 1\n",
    "        elif params[\"direction\"] == \"less\" and val < params[\"threshold\"]:\n",
    "            votes += 1\n",
    "    return votes >= min_votes\n",
    "\n",
    "def apply_rule_based_flags(\n",
    "    df: pd.DataFrame,\n",
    "    thresholds: dict,\n",
    "    min_votes: int\n",
    ") -> pd.Series:\n",
    "    \"\"\"\n",
    "    Vectorized application: returns a boolean Series of AI flags.\n",
    "    \"\"\"\n",
    "    return df.apply(lambda r: rule_based_flag(r, thresholds, min_votes), axis=1)\n",
    "\n",
    "# --- Example Usage ---\n",
    "\n",
    "# 1) Define which features to include and how to calibrate\n",
    "features_params = {\n",
    "    \"lexical_spike_delta\": {\"direction\": \"greater\", \"percentile\": 95},\n",
    "    \"perplexity\":          {\"direction\": \"less\",    \"percentile\": 5},\n",
    "    \"citation_delta\":      {\"direction\": \"less\",    \"percentile\": 5},\n",
    "    \"burstiness\":          {\"direction\": \"less\",    \"percentile\": 5},\n",
    "    \"nTTR\":                {\"direction\": \"less\",    \"percentile\": 5},\n",
    "}\n",
    "\n",
    "# 2) Identify baseline window (e.g., pre‑ChatGPT)\n",
    "baseline_mask = full_data[\"timestamp\"] < \"2022-11-01\"\n",
    "\n",
    "# 3) Calibrate thresholds from baseline\n",
    "thresholds = calibrate_thresholds(full_data, baseline_mask, features_params)\n",
    "\n",
    "# 4) Choose minimum votes (e.g., 2 out of 5 signals)\n",
    "min_votes = 2\n",
    "\n",
    "# 5) Flag revisions\n",
    "full_data[\"ai_flag\"] = apply_rule_based_flags(full_data, thresholds, min_votes)\n",
    "\n",
    "# Inspect thresholds and AI‐flagged count\n",
    "print(\"Thresholds per feature:\", thresholds)\n",
    "print(\"AI‐flagged revisions:\", full_data[\"ai_flag\"].sum())\n",
    "\n"
   ],
   "id": "5f452300c50353af"
  },
  {
   "metadata": {
    "ExecuteTime": {
     "end_time": "2025-06-27T15:20:20.069161Z",
     "start_time": "2025-06-27T15:20:03.956511Z"
    }
   },
   "cell_type": "code",
   "source": [
    "# Save the results\n",
    "full_data.to_csv(\"everything100percat_with_ai_flags.csv\", index=False)"
   ],
   "id": "2cb95d38c44a0296",
   "outputs": [],
   "execution_count": 3
  },
  {
   "metadata": {
    "ExecuteTime": {
     "end_time": "2025-07-07T12:25:07.825153Z",
     "start_time": "2025-07-07T12:24:55.528246Z"
    }
   },
   "cell_type": "code",
   "source": [
    "# read\n",
    "full_data = pd.read_csv(\"everything100percat_with_ai_flags.csv\")\n",
    "# Check the first few rows\n",
    "print(full_data.head())\n"
   ],
   "id": "6ad4a9821d908c14",
   "outputs": [
    {
     "name": "stdout",
     "output_type": "stream",
     "text": [
      "   Unnamed: 0                snapshot_ts      rev_id  \\\n",
      "0           0  2023-06-30 00:00:00+00:00  1160763005   \n",
      "1           1  2023-07-31 00:00:00+00:00  1166013433   \n",
      "2           2  2023-08-31 00:00:00+00:00  1171485250   \n",
      "3           3  2023-09-30 00:00:00+00:00  1177319025   \n",
      "4           4  2023-10-31 00:00:00+00:00  1181899435   \n",
      "\n",
      "                   timestamp                                   user  is_bot  \\\n",
      "0  2023-06-18 16:30:41+00:00  2601:483:C301:7360:BC05:287F:176:F15F   False   \n",
      "1  2023-07-18 21:17:52+00:00                             TompaDompa   False   \n",
      "2  2023-08-21 11:13:21+00:00                           79.41.96.200   False   \n",
      "3  2023-09-27 04:45:15+00:00                         187.254.98.237   False   \n",
      "4  2023-10-25 22:06:39+00:00                              Idulatria   False   \n",
      "\n",
      "                                             content  article_id  \\\n",
      "0  {{Use dmy dates|date=July 2021}}\\n{{Short desc...       20951   \n",
      "1  {{Use dmy dates|date=July 2021}}\\n{{Short desc...       20951   \n",
      "2  {{Use dmy dates|date=July 2021}}\\n{{Short desc...       20951   \n",
      "3  {{Use dmy dates|date=July 2021}}\\n{{Short desc...       20951   \n",
      "4  {{Use dmy dates|date=July 2021}}\\n{{Short desc...       20951   \n",
      "\n",
      "             title     root  ... voice_ratio        fre        fog  \\\n",
      "0  List of empires  History  ...         1.0 -55.581724  53.007301   \n",
      "1  List of empires  History  ...         1.0 -54.688918  52.586390   \n",
      "2  List of empires  History  ...         1.0 -55.556147  52.945779   \n",
      "3  List of empires  History  ...         1.0 -55.224708  52.867424   \n",
      "4  List of empires  History  ...         1.0 -55.502305  52.973933   \n",
      "\n",
      "   chars_per_sent  sents_per_para      nTTR word_density  avg_line_len  \\\n",
      "0      350.360000            25.0  6.529318     1.662302        8783.0   \n",
      "1      334.269231            26.0  6.574040     1.686553        8716.0   \n",
      "2      336.653846            26.0  6.574040     1.674641        8778.0   \n",
      "3      350.240000            25.0  6.574040     1.674260        8780.0   \n",
      "4      336.730769            26.0  6.574040     1.674260        8780.0   \n",
      "\n",
      "   citation_delta  ai_flag  \n",
      "0        0.002269    False  \n",
      "1        0.002288    False  \n",
      "2        0.002270    False  \n",
      "3        0.002817    False  \n",
      "4        0.002817    False  \n",
      "\n",
      "[5 rows x 29 columns]\n"
     ]
    }
   ],
   "execution_count": 2
  },
  {
   "metadata": {
    "ExecuteTime": {
     "end_time": "2025-07-07T12:40:20.248328Z",
     "start_time": "2025-07-07T12:40:20.215082Z"
    }
   },
   "cell_type": "code",
   "source": [
    "corrs = (\n",
    "    full_data\n",
    "    .drop(columns=[\n",
    "        'Unnamed: 0',\n",
    "        'snapshot_ts',\n",
    "        'timestamp',       # <- drop this!\n",
    "        'content',\n",
    "        'user',\n",
    "        'title',\n",
    "        'root',\n",
    "        'stratum',\n",
    "        'plain_text',\n",
    "        'upos_props',\n",
    "    ])\n",
    "    .corrwith(full_data['ai_flag'].astype(int))\n",
    ")\n",
    "print(corrs.sort_values(ascending=False).head(10))\n"
   ],
   "id": "37d4de7439e87527",
   "outputs": [
    {
     "name": "stdout",
     "output_type": "stream",
     "text": [
      "ai_flag                1.000000\n",
      "word_density           0.210328\n",
      "lexical_spike_delta    0.187886\n",
      "p_t                    0.187886\n",
      "fog                    0.183399\n",
      "perplexity             0.066466\n",
      "chars_per_sent         0.062179\n",
      "mean_dep_depth         0.035625\n",
      "rev_id                 0.004840\n",
      "is_bot                -0.005568\n",
      "dtype: float64\n"
     ]
    }
   ],
   "execution_count": 4
  }
 ],
 "metadata": {
  "kernelspec": {
   "display_name": "Python 3",
   "language": "python",
   "name": "python3"
  },
  "language_info": {
   "codemirror_mode": {
    "name": "ipython",
    "version": 2
   },
   "file_extension": ".py",
   "mimetype": "text/x-python",
   "name": "python",
   "nbconvert_exporter": "python",
   "pygments_lexer": "ipython2",
   "version": "2.7.6"
  }
 },
 "nbformat": 4,
 "nbformat_minor": 5
}
