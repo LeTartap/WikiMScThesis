{
 "cells": [
  {
   "cell_type": "code",
   "id": "initial_id",
   "metadata": {
    "collapsed": true,
    "ExecuteTime": {
     "end_time": "2025-06-27T15:15:32.616042Z",
     "start_time": "2025-06-27T15:15:19.001409Z"
    }
   },
   "source": [
    "import pandas as pd\n",
    "\n",
    "full_data = pd.read_csv(\"everything100percat.csv\")"
   ],
   "outputs": [],
   "execution_count": 1
  },
  {
   "metadata": {
    "ExecuteTime": {
     "end_time": "2025-06-27T15:15:41.611600Z",
     "start_time": "2025-06-27T15:15:41.121351Z"
    }
   },
   "cell_type": "code",
   "source": [
    "\n",
    "def calibrate_thresholds(\n",
    "    df: pd.DataFrame,\n",
    "    baseline_mask: pd.Series,\n",
    "    features_params: dict\n",
    ") -> dict:\n",
    "    \"\"\"\n",
    "    Compute trigger thresholds for each feature based on a baseline window.\n",
    "\n",
    "    Args:\n",
    "      df             : full DataFrame with features\n",
    "      baseline_mask  : boolean Series marking baseline rows (e.g., pre‑ChatGPT)\n",
    "      features_params: dict mapping feature names to:\n",
    "                       {\n",
    "                         \"direction\": \"greater\" or \"less\",\n",
    "                         \"percentile\": e.g. 95 (for greater) or 5 (for less)\n",
    "                       }\n",
    "    Returns:\n",
    "      thresholds: dict mapping feature to {\"threshold\": float, \"direction\": str}\n",
    "    \"\"\"\n",
    "    baseline_df = df.loc[baseline_mask]\n",
    "    thresholds = {}\n",
    "    for feat, params in features_params.items():\n",
    "        pct = params.get(\"percentile\", 95 if params[\"direction\"]==\"greater\" else 5) / 100\n",
    "        if params[\"direction\"] == \"greater\":\n",
    "            thr = baseline_df[feat].quantile(pct)\n",
    "        else:\n",
    "            thr = baseline_df[feat].quantile(pct)\n",
    "        thresholds[feat] = {\"threshold\": thr, \"direction\": params[\"direction\"]}\n",
    "    return thresholds\n",
    "\n",
    "def rule_based_flag(\n",
    "    row: pd.Series,\n",
    "    thresholds: dict,\n",
    "    min_votes: int\n",
    ") -> bool:\n",
    "    \"\"\"\n",
    "    Apply rule‑based voting for a single revision.\n",
    "\n",
    "    Args:\n",
    "      row        : one DataFrame row of features\n",
    "      thresholds : dict from calibrate_thresholds()\n",
    "      min_votes  : minimum number of triggered rules to label as AI\n",
    "\n",
    "    Returns:\n",
    "      True if AI‑assisted (votes >= min_votes), else False\n",
    "    \"\"\"\n",
    "    votes = 0\n",
    "    for feat, params in thresholds.items():\n",
    "        val = row.get(feat, None)\n",
    "        if val is None or pd.isna(val):\n",
    "            continue\n",
    "        if params[\"direction\"] == \"greater\" and val > params[\"threshold\"]:\n",
    "            votes += 1\n",
    "        elif params[\"direction\"] == \"less\" and val < params[\"threshold\"]:\n",
    "            votes += 1\n",
    "    return votes >= min_votes\n",
    "\n",
    "def apply_rule_based_flags(\n",
    "    df: pd.DataFrame,\n",
    "    thresholds: dict,\n",
    "    min_votes: int\n",
    ") -> pd.Series:\n",
    "    \"\"\"\n",
    "    Vectorized application: returns a boolean Series of AI flags.\n",
    "    \"\"\"\n",
    "    return df.apply(lambda r: rule_based_flag(r, thresholds, min_votes), axis=1)\n",
    "\n",
    "# --- Example Usage ---\n",
    "\n",
    "# 1) Define which features to include and how to calibrate\n",
    "features_params = {\n",
    "    \"lexical_spike_delta\": {\"direction\": \"greater\", \"percentile\": 95},\n",
    "    \"perplexity\":          {\"direction\": \"less\",    \"percentile\": 5},\n",
    "    \"citation_delta\":      {\"direction\": \"less\",    \"percentile\": 5},\n",
    "    \"burstiness\":          {\"direction\": \"less\",    \"percentile\": 5},\n",
    "    \"nTTR\":                {\"direction\": \"less\",    \"percentile\": 5},\n",
    "}\n",
    "\n",
    "# 2) Identify baseline window (e.g., pre‑ChatGPT)\n",
    "baseline_mask = full_data[\"timestamp\"] < \"2022-11-01\"\n",
    "\n",
    "# 3) Calibrate thresholds from baseline\n",
    "thresholds = calibrate_thresholds(full_data, baseline_mask, features_params)\n",
    "\n",
    "# 4) Choose minimum votes (e.g., 2 out of 5 signals)\n",
    "min_votes = 2\n",
    "\n",
    "# 5) Flag revisions\n",
    "full_data[\"ai_flag\"] = apply_rule_based_flags(full_data, thresholds, min_votes)\n",
    "\n",
    "# Inspect thresholds and AI‐flagged count\n",
    "print(\"Thresholds per feature:\", thresholds)\n",
    "print(\"AI‐flagged revisions:\", full_data[\"ai_flag\"].sum())\n",
    "\n"
   ],
   "id": "5f452300c50353af",
   "outputs": [
    {
     "name": "stdout",
     "output_type": "stream",
     "text": [
      "Thresholds per feature: {'lexical_spike_delta': {'threshold': np.float64(0.03160831639765665), 'direction': 'greater'}, 'perplexity': {'threshold': np.float64(219.4595947265625), 'direction': 'less'}, 'citation_delta': {'threshold': np.float64(0.0006215535705276602), 'direction': 'less'}, 'burstiness': {'threshold': np.float64(0.0584613878072789), 'direction': 'less'}, 'nTTR': {'threshold': np.float64(5.700198591836499), 'direction': 'less'}}\n",
      "AI‐flagged revisions: 654\n"
     ]
    }
   ],
   "execution_count": 2
  },
  {
   "metadata": {
    "ExecuteTime": {
     "end_time": "2025-06-27T15:20:20.069161Z",
     "start_time": "2025-06-27T15:20:03.956511Z"
    }
   },
   "cell_type": "code",
   "source": [
    "# Save the results\n",
    "full_data.to_csv(\"everything100percat_with_ai_flags.csv\", index=False)"
   ],
   "id": "2cb95d38c44a0296",
   "outputs": [],
   "execution_count": 3
  }
 ],
 "metadata": {
  "kernelspec": {
   "display_name": "Python 3",
   "language": "python",
   "name": "python3"
  },
  "language_info": {
   "codemirror_mode": {
    "name": "ipython",
    "version": 2
   },
   "file_extension": ".py",
   "mimetype": "text/x-python",
   "name": "python",
   "nbconvert_exporter": "python",
   "pygments_lexer": "ipython2",
   "version": "2.7.6"
  }
 },
 "nbformat": 4,
 "nbformat_minor": 5
}
